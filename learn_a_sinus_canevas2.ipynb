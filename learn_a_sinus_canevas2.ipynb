{
 "cells": [
  {
   "cell_type": "code",
   "execution_count": 1,
   "id": "c0c93932",
   "metadata": {},
   "outputs": [],
   "source": [
    "%reset -f\n",
    "\n",
    "import numpy as np\n",
    "import matplotlib.pyplot as plt\n",
    "from sklearn.utils import shuffle"
   ]
  },
  {
   "cell_type": "code",
   "execution_count": 2,
   "id": "dcddcd30",
   "metadata": {},
   "outputs": [],
   "source": [
    "# ETAPE 1\n",
    "\n",
    "# définition des parametres : pour tester les fonctions, on prendra n2 = 5\n",
    "\n",
    "# n = nombre de données d'apprentissage \n",
    "# n2 = nombres de neurones dans la 2eme couche\n",
    "# eta = pas dans la méthode du gradient à pas fixe (= learning rate)\n",
    "# Niter = nombre d'itérations dans la méthode du gradient à pas fixe\n",
    "\n",
    "n = 100\n",
    "n2 = 5\n",
    "eta = 0.3 #learning rate\n",
    "Niter = 8000\n",
    "Nepoch = 6000"
   ]
  },
  {
   "cell_type": "code",
   "execution_count": 3,
   "id": "133e0a94",
   "metadata": {},
   "outputs": [],
   "source": [
    "# ETAPE 2\n",
    "\n",
    "# génération des données d'apprentissage\n",
    "\n",
    "X = np.linspace(0,1,n).reshape(1,n)\n",
    "y = np.sin(2*np.pi*X)"
   ]
  },
  {
   "cell_type": "code",
   "execution_count": 4,
   "id": "9438a9d3",
   "metadata": {},
   "outputs": [
    {
     "data": {
      "text/plain": [
       "(1, 100)"
      ]
     },
     "execution_count": 4,
     "metadata": {},
     "output_type": "execute_result"
    }
   ],
   "source": [
    "np.shape(X)\n",
    "np.shape(y)"
   ]
  },
  {
   "cell_type": "code",
   "execution_count": 5,
   "id": "796bbc31",
   "metadata": {},
   "outputs": [],
   "source": [
    "# ETAPE 3\n",
    "\n",
    "# Fonction d'activation\n",
    "def sigma(z):\n",
    "    return 1/(1+np.exp(-z))\n",
    "\n",
    "# Dérivée de la fonction d'activation\n",
    "def sigmaprime(z):\n",
    "    return np.exp(-z)/((1+np.exp(-z))**2)"
   ]
  },
  {
   "cell_type": "code",
   "execution_count": 6,
   "id": "40397e5c",
   "metadata": {},
   "outputs": [],
   "source": [
    "# ETAPE 4\n",
    "\n",
    "# Initialisation matrices poids et vecteurs biais du réseau de neurones\n",
    "\n",
    "W2 = np.random.randn(n2,1)\n",
    "b2 = np.random.randn(n2,1)\n",
    "\n",
    "W3 = np.random.randn(1,n2)\n",
    "b3 = np.random.randn(1)\n"
   ]
  },
  {
   "cell_type": "code",
   "execution_count": 7,
   "id": "6ed9cd3a",
   "metadata": {},
   "outputs": [],
   "source": [
    "# ETAPE 5\n",
    "\n",
    "# Calcul de dC/dW2, dC/dW3, dC/db2 et dC/db3 en utilisant\n",
    "# la méthode de backpropagation\n",
    "\n",
    "def compute_grad(x,y,W2,W3,b2,b3):\n",
    "    a1 = x\n",
    "    # Calculer et stocker\n",
    "    z2 = np.dot(W2,a1) + b2\n",
    "    a2 = sigma(z2)\n",
    "\n",
    "    z3 = np.dot(W3,a2) + b3\n",
    "    a3 = z3\n",
    "\n",
    "    #C = np.mean((a3 - y)**2)*0.5\n",
    "    # Calcul\n",
    "    delta3 = (a3-y)\n",
    "    # Calcul\n",
    "    delta2 = np.dot(W3.T,delta3)*sigmaprime(z2)\n",
    "    \n",
    "    dCdW2 = np.dot(delta2,a1.T)\n",
    "    #dCdW2 = dCdW2.T\n",
    "    dCdW3 = np.dot(delta3,a2.T)\n",
    "    #dCdW3 = dCdW2.T\n",
    "    dCdb2 = delta2\n",
    "    dCdb3 = delta3\n",
    "\n",
    "    return dCdW2, dCdW3, dCdb2, dCdb3"
   ]
  },
  {
   "cell_type": "code",
   "execution_count": 8,
   "id": "2d4f0327",
   "metadata": {},
   "outputs": [
    {
     "name": "stdout",
     "output_type": "stream",
     "text": [
      "dCdW2=\n",
      "[[0.09472382]\n",
      " [0.13767658]\n",
      " [0.18598269]\n",
      " [0.13201616]\n",
      " [0.04893513]]\n",
      "\n",
      "dCdW3=\n",
      "[[2.00282269 2.10390657 2.06540843 2.46139695 1.84208145]]\n",
      "\n",
      "dCdb2=\n",
      "[[0.31574606]\n",
      " [0.45892193]\n",
      " [0.6199423 ]\n",
      " [0.44005386]\n",
      " [0.1631171 ]]\n",
      "\n",
      "dCdb3=\n",
      "[[3.30567707]]\n"
     ]
    }
   ],
   "source": [
    "# Test de la fonction compute_grad:\n",
    "# Pour tester, on prendra les matrices suivantes:\n",
    "\n",
    "W2 = np.array([[0.1],[0.2],[0.7],[0.9],[0.1]])\n",
    "b2 = np.array([[0.4],[0.5],[0.3],[0.8],[0.2]])\n",
    "\n",
    "W3 = np.array([[0.4, 0.6, 0.8, 0.7, 0.2]])\n",
    "b3 = np.array([[2.5]])\n",
    "\n",
    "xi = np.array([[0.3]])\n",
    "yi = np.sin(2*np.pi*xi)\n",
    "\n",
    "dCdW2, dCdW3, dCdb2, dCdb3 = compute_grad(xi,yi,W2,W3,b2,b3)\n",
    "\n",
    "# Vous devez trouver les résultats suivants:\n",
    "print('dCdW2=')\n",
    "print(dCdW2)\n",
    "print('')\n",
    "print('dCdW3=')\n",
    "print(dCdW3)\n",
    "print('')\n",
    "print('dCdb2=')\n",
    "print(dCdb2)\n",
    "print('')\n",
    "print('dCdb3=')\n",
    "print(dCdb3)"
   ]
  },
  {
   "cell_type": "code",
   "execution_count": 9,
   "id": "05cc5753",
   "metadata": {},
   "outputs": [],
   "source": [
    "# ETAPE 6\n",
    "\n",
    "# Définition de la fonction coût\n",
    "\n",
    "def cost(y,y_pred):\n",
    "    return (1/2*n)* np.linalg.norm(y-y_pred)"
   ]
  },
  {
   "cell_type": "code",
   "execution_count": 10,
   "id": "d7d9d9af",
   "metadata": {},
   "outputs": [],
   "source": [
    "# ETAPE 7\n",
    "\n",
    "# Prediction du modèle\n",
    "\n",
    "def model_predict(X,W2,W3,b2,b3):\n",
    "    a1 = X\n",
    "    # Calculer et stocker\n",
    "    z2 = W2@a1 + b2\n",
    "    a2 = sigma(z2)\n",
    "\n",
    "    z3 = W3@a2 + b3\n",
    "    a3 = z3\n",
    "    \n",
    "    return a3"
   ]
  },
  {
   "cell_type": "code",
   "execution_count": 11,
   "id": "231378e7",
   "metadata": {},
   "outputs": [
    {
     "name": "stdout",
     "output_type": "stream",
     "text": [
      "[[4.25673358]]\n"
     ]
    }
   ],
   "source": [
    "# Test de la fonction model_predict\n",
    "\n",
    "print(model_predict(xi,W2,W3,b2,b3))"
   ]
  },
  {
   "cell_type": "code",
   "execution_count": 12,
   "id": "7efa7861",
   "metadata": {},
   "outputs": [],
   "source": [
    "# ETAPE 8\n",
    "\n",
    "# Programme principal : phase d'apprentissage\n",
    "\n",
    "Cost = np.zeros(Niter)\n",
    "\n",
    "for j in range(Niter):\n",
    "    \n",
    "    # Votre code ici\n",
    "        \n",
    "    dCdW2 = np.zeros(W2.shape)\n",
    "    dCdW3 = np.zeros(W3.shape)\n",
    "    dCdb2 = np.zeros(b2.shape)\n",
    "    dCdb3 = np.zeros(b3.shape)\n",
    "    \n",
    "    y_pred = model_predict(X,W2,W3,b2,b3)\n",
    "    Cost[j] = cost(y,y_pred)\n",
    "    for i in range(n):\n",
    "        \n",
    "        # Votre code ici\n",
    "        xi = X[0][i]\n",
    "        yi = y[0][i]\n",
    "        gW2, gW3, gb2, gb3 = compute_grad(xi,yi,W2,W3,b2,b3)\n",
    "        dCdW2 += gW2\n",
    "        dCdW3 += gW3\n",
    "        dCdb2 += gb2\n",
    "        dCdb3 += gb3\n",
    "        \n",
    "    \n",
    "    # Actualisation des paramètres    \n",
    "    W2 = W2 - (eta/n)*dCdW2\n",
    "    W3 = W3 - (eta/n)*dCdW3\n",
    "    b2 = b2 - (eta/n)*dCdb2\n",
    "    b3 = b3 - (eta/n)*dCdb3"
   ]
  },
  {
   "cell_type": "code",
   "execution_count": 13,
   "id": "d8c76afd",
   "metadata": {},
   "outputs": [
    {
     "data": {
      "text/plain": [
       "array([[ 0.22196804,  0.25646699,  0.29101187,  0.32556099,  0.36006844,\n",
       "         0.39448376,  0.42875155,  0.46281106,  0.49659579,  0.53003302,\n",
       "         0.56304334,  0.59554023,  0.6274295 ,  0.65860885,  0.68896739,\n",
       "         0.71838515,  0.7467327 ,  0.7738707 ,  0.7996497 ,  0.82390983,\n",
       "         0.8464808 ,  0.86718191,  0.88582243,  0.90220202,  0.91611164,\n",
       "         0.9273347 ,  0.93564857,  0.9408267 ,  0.94264106,  0.94086524,\n",
       "         0.93527811,  0.92566808,  0.91183788,  0.89361002,  0.87083261,\n",
       "         0.84338565,  0.81118743,  0.77420103,  0.73244049,  0.68597649,\n",
       "         0.63494111,  0.57953142,  0.5200115 ,  0.45671268,  0.39003169,\n",
       "         0.32042658,  0.24841048,  0.17454321,  0.09942097,  0.02366453,\n",
       "        -0.05209361, -0.12722261, -0.20110659, -0.27315727, -0.34282543,\n",
       "        -0.40961072, -0.47306952, -0.53282064, -0.5885488 , -0.64000588,\n",
       "        -0.68701026, -0.72944433, -0.76725056, -0.80042648, -0.82901885,\n",
       "        -0.85311738, -0.87284824, -0.88836766, -0.89985581, -0.90751099,\n",
       "        -0.91154445, -0.91217567, -0.90962827, -0.90412656, -0.89589262,\n",
       "        -0.88514388, -0.87209125, -0.85693771, -0.83987718, -0.82109382,\n",
       "        -0.80076159, -0.779044  , -0.75609409, -0.73205456, -0.70705801,\n",
       "        -0.68122727, -0.6546758 , -0.62750812, -0.59982032, -0.57170048,\n",
       "        -0.54322926, -0.51448029, -0.48552072, -0.45641165, -0.42720858,\n",
       "        -0.39796183, -0.36871695, -0.3395151 , -0.31039338, -0.28138519]])"
      ]
     },
     "execution_count": 13,
     "metadata": {},
     "output_type": "execute_result"
    }
   ],
   "source": [
    "y_pred = model_predict(X,W2,W3,b2,b3)\n",
    "y_pred"
   ]
  },
  {
   "cell_type": "code",
   "execution_count": 14,
   "id": "d1bd3f0d",
   "metadata": {},
   "outputs": [
    {
     "data": {
      "text/plain": [
       "[<matplotlib.lines.Line2D at 0x1a4b89ec3d0>]"
      ]
     },
     "execution_count": 14,
     "metadata": {},
     "output_type": "execute_result"
    },
    {
     "data": {
      "image/png": "[encoded data removed]",
      "text/plain": [
       "<Figure size 432x288 with 1 Axes>"
      ]
     },
     "metadata": {
      "needs_background": "light"
     },
     "output_type": "display_data"
    }
   ],
   "source": [
    "plt.figure()\n",
    "plt.plot(X[0],y_pred[0], '*', label= \"Prediction\")\n",
    "plt.plot(X[0],y[0], label=\"Verité\" )\n"
   ]
  },
  {
   "cell_type": "markdown",
   "id": "08f56b7c",
   "metadata": {},
   "source": [
    "# Méthode de gradient stochastique"
   ]
  },
  {
   "cell_type": "code",
   "execution_count": 15,
   "id": "20a3bb8b",
   "metadata": {},
   "outputs": [],
   "source": [
    "Cost = np.zeros(Nepoch)\n",
    "for k in range(1,Nepoch):\n",
    "    dCdW2 = np.zeros(W2.shape)\n",
    "    dCdW3 = np.zeros(W3.shape)\n",
    "    dCdb2 = np.zeros(b2.shape)\n",
    "    dCdb3 = np.zeros(b3.shape)\n",
    "    (X,y) = shuffle(X,y)\n",
    " \n",
    "    y_pred = model_predict(X,W2,W3,b2,b3)\n",
    "    Cost[k] = cost(y,y_pred)     \n",
    "    for i in range(1,n):\n",
    "        xi = X[0][i]\n",
    "        yi = y[0][i]\n",
    "        gW2, gW3, gb2, gb3 = compute_grad(xi,yi,W2,W3,b2,b3)\n",
    "        dCdW2 += gW2\n",
    "        dCdW3 += gW3\n",
    "        dCdb2 += gb2\n",
    "        dCdb3 += gb3\n",
    "   \n",
    "    W2 = W2 - (eta/n)*dCdW2\n",
    "    W3 = W3 - (eta/n)*dCdW3\n",
    "    b2 = b2 - (eta/n)*dCdb2\n",
    "    b3 = b3 - (eta/n)*dCdb3  \n",
    "    \n",
    "    "
   ]
  },
  {
   "cell_type": "code",
   "execution_count": 16,
   "id": "bdcbda50",
   "metadata": {},
   "outputs": [
    {
     "data": {
      "text/plain": [
       "array([[ 0.20560094,  0.24239367,  0.27915948,  0.31585319,  0.35242536,\n",
       "         0.38882197,  0.42498406,  0.46084738,  0.49634198,  0.53139184,\n",
       "         0.56591444,  0.59982037,  0.6330129 ,  0.66538761,  0.69683197,\n",
       "         0.72722503,  0.75643706,  0.78432933,  0.81075395,  0.83555375,\n",
       "         0.8585624 ,  0.87960456,  0.89849631,  0.91504579,  0.92905404,\n",
       "         0.94031623,  0.94862318,  0.95376327,  0.95552474,  0.95369852,\n",
       "         0.94808145,  0.93847995,  0.92471427,  0.90662305,  0.8840683 ,\n",
       "         0.85694067,  0.82516484,  0.78870497,  0.7475699 ,  0.70181798,\n",
       "         0.65156127,  0.59696878,  0.53826866,  0.47574892,  0.40975665,\n",
       "         0.34069552,  0.26902149,  0.1952368 ,  0.11988234,  0.04352861,\n",
       "        -0.0332345 , -0.10980859, -0.18559805, -0.26002116, -0.33252077,\n",
       "        -0.40257392, -0.46970028, -0.53346903, -0.59350405, -0.64948732,\n",
       "        -0.70116061, -0.74832552, -0.79084201, -0.82862567, -0.86164403,\n",
       "        -0.88991197, -0.91348671, -0.93246243, -0.94696488, -0.95714597,\n",
       "        -0.96317865, -0.96525209, -0.96356729, -0.95833309, -0.9497627 ,\n",
       "        -0.93807065, -0.92347026, -0.90617146, -0.88637913, -0.86429167,\n",
       "        -0.84009997, -0.81398669, -0.78612567, -0.75668169, -0.72581028,\n",
       "        -0.69365776, -0.66036133, -0.62604929, -0.59084132, -0.55484881,\n",
       "        -0.51817521, -0.48091642, -0.44316121, -0.40499162, -0.36648334,\n",
       "        -0.32770615, -0.28872425, -0.2495967 , -0.21037773, -0.1711171 ]])"
      ]
     },
     "execution_count": 16,
     "metadata": {},
     "output_type": "execute_result"
    }
   ],
   "source": [
    "y_pred = model_predict(X,W2,W3,b2,b3)\n",
    "y_pred"
   ]
  },
  {
   "cell_type": "code",
   "execution_count": 17,
   "id": "e747ad41",
   "metadata": {},
   "outputs": [
    {
     "data": {
      "text/plain": [
       "[<matplotlib.lines.Line2D at 0x1a4b918b040>]"
      ]
     },
     "execution_count": 17,
     "metadata": {},
     "output_type": "execute_result"
    },
    {
     "data": {
      "image/png": "[encoded data removed]",
      "text/plain": [
       "<Figure size 432x288 with 1 Axes>"
      ]
     },
     "metadata": {
      "needs_background": "light"
     },
     "output_type": "display_data"
    }
   ],
   "source": [
    "plt.figure()\n",
    "plt.plot(X[0],y_pred[0], '*', label= \"Prediction\")\n",
    "plt.plot(X[0],y[0], label=\"Verité\" )"
   ]
  },
  {
   "cell_type": "markdown",
   "id": "f1cabb01",
   "metadata": {},
   "source": [
    "# Méthode de gradient stochastique avec Mini Lots"
   ]
  },
  {
   "cell_type": "code",
   "execution_count": 18,
   "id": "3ef34589",
   "metadata": {},
   "outputs": [],
   "source": [
    "Nepoch = 3000\n",
    "Nbatch = 5\n",
    "Batchsize = 20"
   ]
  },
  {
   "cell_type": "code",
   "execution_count": 19,
   "id": "88825a33",
   "metadata": {},
   "outputs": [],
   "source": [
    "Cost = np.zeros(Nepoch)\n",
    "\n",
    "for k in range(Nepoch):\n",
    "    \n",
    "    # Votre code ici\n",
    "        \n",
    "      \n",
    "    # Mélanger des données\n",
    "    (X,y) = shuffle(X,y)\n",
    "    y_pred = model_predict(X,W2,W3,b2,b3)\n",
    "    Cost[k] = cost(y,y_pred)\n",
    "    for j in range(Nbatch):\n",
    "        dCdW2 = np.zeros(W2.shape)\n",
    "        dCdW3 = np.zeros(W3.shape)\n",
    "        dCdb2 = np.zeros(b2.shape)\n",
    "        dCdb3 = np.zeros(b3.shape)\n",
    "        for i in range(Batchsize):\n",
    "            u = j*Batchsize\n",
    "            # Votre code ici\n",
    "            xi = X[0][u+i]\n",
    "            yi = y[0][u+i]\n",
    "            gW2, gW3, gb2, gb3 = compute_grad(xi,yi,W2,W3,b2,b3)\n",
    "            dCdW2 += gW2\n",
    "            dCdW3 += gW3\n",
    "            dCdb2 += gb2\n",
    "            dCdb3 += gb3\n",
    "        \n",
    "    \n",
    "        # Actualisation des paramètres    \n",
    "        W2 = W2 - (eta/Batchsize)*dCdW2\n",
    "        W3 = W3 - (eta/Batchsize)*dCdW3\n",
    "        b2 = b2 - (eta/Batchsize)*dCdb2\n",
    "        b3 = b3 - (eta/Batchsize)*dCdb3"
   ]
  },
  {
   "cell_type": "code",
   "execution_count": 20,
   "id": "39170788",
   "metadata": {},
   "outputs": [
    {
     "data": {
      "text/plain": [
       "array([[ 0.13071259,  0.17565732,  0.22031024,  0.26460825,  0.30848371,\n",
       "         0.35186418,  0.39467214,  0.4368248 ,  0.47823381,  0.51880507,\n",
       "         0.55843848,  0.5970278 ,  0.63446045,  0.67061743,  0.70537323,\n",
       "         0.73859587,  0.77014694,  0.7998818 ,  0.82764981,  0.85329481,\n",
       "         0.87665557,  0.89756657,  0.91585882,  0.931361  ,  0.94390072,\n",
       "         0.95330608,  0.95940742,  0.96203938,  0.96104315,  0.95626907,\n",
       "         0.94757933,  0.93485104,  0.91797935,  0.89688074,  0.87149642,\n",
       "         0.84179567,  0.80777904,  0.76948145,  0.72697486,  0.68037058,\n",
       "         0.62982097,  0.57552049,  0.51770597,  0.456656  ,  0.39268945,\n",
       "         0.32616291,  0.25746735,  0.18702368,  0.11527765,  0.04269394,\n",
       "        -0.0302503 , -0.10307223, -0.17529028, -0.24643116, -0.31603648,\n",
       "        -0.38366906, -0.44891856, -0.51140633, -0.57078952, -0.6267641 ,\n",
       "        -0.67906701, -0.72747738, -0.77181678, -0.81194865, -0.84777702,\n",
       "        -0.87924458, -0.90633022, -0.92904617, -0.94743489, -0.96156577,\n",
       "        -0.97153179, -0.97744611, -0.97943889, -0.97765412, -0.97224671,\n",
       "        -0.96337981, -0.95122236, -0.93594686, -0.91772747, -0.89673828,\n",
       "        -0.87315188, -0.84713815, -0.81886321, -0.78848865, -0.75617083,\n",
       "        -0.72206043, -0.68630208, -0.64903411, -0.61038841, -0.57049042,\n",
       "        -0.5294591 , -0.48740701, -0.44444047, -0.40065971, -0.35615904,\n",
       "        -0.31102709, -0.26534702, -0.21919678, -0.17264935, -0.12577297]])"
      ]
     },
     "execution_count": 20,
     "metadata": {},
     "output_type": "execute_result"
    }
   ],
   "source": [
    "y_pred = model_predict(X,W2,W3,b2,b3)\n",
    "y_pred"
   ]
  },
  {
   "cell_type": "code",
   "execution_count": 21,
   "id": "788caa36",
   "metadata": {},
   "outputs": [
    {
     "data": {
      "text/plain": [
       "[<matplotlib.lines.Line2D at 0x1a4b92006d0>]"
      ]
     },
     "execution_count": 21,
     "metadata": {},
     "output_type": "execute_result"
    },
    {
     "data": {
      "image/png": "[encoded data removed]",
      "text/plain": [
       "<Figure size 432x288 with 1 Axes>"
      ]
     },
     "metadata": {
      "needs_background": "light"
     },
     "output_type": "display_data"
    }
   ],
   "source": [
    "plt.figure()\n",
    "plt.plot(X[0],y_pred[0], '*', label= \"Prediction\")\n",
    "plt.plot(X[0],y[0], label=\"Verité\" )"
   ]
  },
  {
   "cell_type": "markdown",
   "id": "2c66f511",
   "metadata": {},
   "source": [
    "# Méthode de gradient stochastique avec Mini Lots et moyenne glissant"
   ]
  },
  {
   "cell_type": "code",
   "execution_count": 22,
   "id": "c19e6137",
   "metadata": {},
   "outputs": [],
   "source": [
    "Cost = np.zeros(Nepoch)\n",
    "\n",
    "beta = 0.9\n",
    "\n",
    "\n",
    "dCdW2_avg = np.zeros(W2.shape)\n",
    "dCdW3_avg = np.zeros(W3.shape)\n",
    "dCdb2_avg = np.zeros(b2.shape)\n",
    "dCdb3_avg = np.zeros(b3.shape)\n",
    "for k in range(Nepoch):\n",
    "    \n",
    "    # Votre code ici\n",
    "    \n",
    "    # Mélanger des données\n",
    "    (X,y) = shuffle(X,y)\n",
    "    y_pred = model_predict(X,W2,W3,b2,b3)\n",
    "    Cost[k] = cost(y,y_pred)\n",
    "    \n",
    "    for j in range(Nbatch):\n",
    "        dCdW2 = np.zeros(W2.shape)\n",
    "        dCdW3 = np.zeros(W3.shape)\n",
    "        dCdb2 = np.zeros(b2.shape)\n",
    "        dCdb3 = np.zeros(b3.shape)\n",
    "        for i in range(Batchsize):\n",
    "            u = j*Batchsize\n",
    "\n",
    "            xi = X[0][u+i]\n",
    "            yi = y[0][u+i]\n",
    "            \n",
    "            gW2, gW3, gb2, gb3 = compute_grad(xi,yi,W2,W3,b2,b3)\n",
    "            \n",
    "            dCdW2 += gW2\n",
    "            dCdW3 += gW3\n",
    "            dCdb2 += gb2\n",
    "            dCdb3 += gb3\n",
    "            \n",
    "            dCdW2_avg = beta*dCdW2_avg + (1-beta)*dCdW2\n",
    "            dCdW3_avg = beta*dCdW3_avg + (1-beta)*dCdW3\n",
    "            dCdb2_avg = beta*dCdb2_avg + (1-beta)*dCdb2\n",
    "            dCdb3_avg = beta*dCdb3_avg + (1-beta)*dCdb3\n",
    "        \n",
    "        # Actualisation des paramètres    \n",
    "        W2 = W2 - (eta/Batchsize)*dCdW2_avg\n",
    "        W3 = W3 - (eta/Batchsize)*dCdW3_avg\n",
    "        b2 = b2 - (eta/Batchsize)*dCdb2_avg\n",
    "        b3 = b3 - (eta/Batchsize)*dCdb3_avg"
   ]
  },
  {
   "cell_type": "code",
   "execution_count": 23,
   "id": "d9346071",
   "metadata": {},
   "outputs": [
    {
     "data": {
      "text/plain": [
       "array([[ 0.062028  ,  0.11584138,  0.16905854,  0.22159835,  0.27337515,\n",
       "         0.32429858,  0.37427347,  0.42319967,  0.47097194,  0.5174799 ,\n",
       "         0.56260793,  0.60623522,  0.64823575,  0.68847846,  0.72682738,\n",
       "         0.7631419 ,  0.79727714,  0.82908438,  0.85841165,  0.88510447,\n",
       "         0.90900665,  0.92996138,  0.94781235,  0.96240516,  0.97358884,\n",
       "         0.98121762,  0.98515281,  0.98526494,  0.98143601,  0.97356189,\n",
       "         0.96155487,  0.94534625,  0.92488894,  0.90016011,  0.87116366,\n",
       "         0.8379326 ,  0.8005311 ,  0.75905631,  0.71363969,  0.66444792,\n",
       "         0.61168317,  0.55558282,  0.49641846,  0.43449421,  0.37014434,\n",
       "         0.30373019,  0.23563643,  0.16626679,  0.09603927,  0.02538101,\n",
       "        -0.04527711, -0.11550591, -0.18488338, -0.25299989, -0.31946311,\n",
       "        -0.38390244, -0.445973  , -0.50535885, -0.56177564, -0.61497255,\n",
       "        -0.66473344, -0.71087746, -0.75325886, -0.79176635, -0.82632185,\n",
       "        -0.85687888, -0.88342055, -0.90595728, -0.92452433, -0.93917928,\n",
       "        -0.94999935, -0.95707881, -0.96052643, -0.96046306, -0.95701928,\n",
       "        -0.95033327, -0.94054881, -0.92781355, -0.91227733, -0.89409082,\n",
       "        -0.87340426, -0.85036637, -0.82512353, -0.79781894, -0.76859205,\n",
       "        -0.73757809, -0.70490765, -0.67070644, -0.63509508, -0.59818899,\n",
       "        -0.56009832, -0.52092799, -0.48077769, -0.43974202, -0.39791053,\n",
       "        -0.35536793, -0.31219421, -0.2684648 , -0.2242508 , -0.17961909]])"
      ]
     },
     "execution_count": 23,
     "metadata": {},
     "output_type": "execute_result"
    }
   ],
   "source": [
    "y_pred = model_predict(X,W2,W3,b2,b3)\n",
    "y_pred"
   ]
  },
  {
   "cell_type": "code",
   "execution_count": 24,
   "id": "b4558510",
   "metadata": {},
   "outputs": [
    {
     "data": {
      "text/plain": [
       "[<matplotlib.lines.Line2D at 0x1a4b9279100>]"
      ]
     },
     "execution_count": 24,
     "metadata": {},
     "output_type": "execute_result"
    },
    {
     "data": {
      "image/png": "[encoded data removed]",
      "text/plain": [
       "<Figure size 432x288 with 1 Axes>"
      ]
     },
     "metadata": {
      "needs_background": "light"
     },
     "output_type": "display_data"
    }
   ],
   "source": [
    "plt.figure()\n",
    "plt.plot(X[0],y_pred[0], '*', label= \"Prediction\")\n",
    "plt.plot(X[0],y[0], label=\"Verité\" )"
   ]
  }
 ],
 "metadata": {
  "kernelspec": {
   "display_name": "Python 3 (ipykernel)",
   "language": "python",
   "name": "python3"
  },
  "language_info": {
   "codemirror_mode": {
    "name": "ipython",
    "version": 3
   },
   "file_extension": ".py",
   "mimetype": "text/x-python",
   "name": "python",
   "nbconvert_exporter": "python",
   "pygments_lexer": "ipython3",
   "version": "3.9.7"
  }
 },
 "nbformat": 4,
 "nbformat_minor": 5
}
