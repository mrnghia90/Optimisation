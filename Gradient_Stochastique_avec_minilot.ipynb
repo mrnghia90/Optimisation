{
 "cells": [
  {
   "cell_type": "code",
   "execution_count": 1,
   "id": "c0c93932",
   "metadata": {},
   "outputs": [],
   "source": [
    "%reset -f\n",
    "\n",
    "import numpy as np\n",
    "import matplotlib.pyplot as plt\n",
    "from sklearn.utils import shuffle"
   ]
  },
  {
   "cell_type": "code",
   "execution_count": 2,
   "id": "dcddcd30",
   "metadata": {},
   "outputs": [],
   "source": [
    "# ETAPE 1\n",
    "\n",
    "# définition des parametres : pour tester les fonctions, on prendra n2 = 5\n",
    "\n",
    "# n = nombre de données d'apprentissage \n",
    "# n2 = nombres de neurones dans la 2eme couche\n",
    "# eta = pas dans la méthode du gradient à pas fixe (= learning rate)\n",
    "# Niter = nombre d'itérations dans la méthode du gradient à pas fixe\n",
    "\n",
    "n = 100\n",
    "n2 = 5\n",
    "eta = 0.3 #learning rate\n",
    "Nepoch = 6000"
   ]
  },
  {
   "cell_type": "code",
   "execution_count": 3,
   "id": "133e0a94",
   "metadata": {},
   "outputs": [],
   "source": [
    "# ETAPE 2\n",
    "\n",
    "# génération des données d'apprentissage\n",
    "\n",
    "X = np.linspace(0,1,n).reshape(1,n)\n",
    "y = np.sin(2*np.pi*X)"
   ]
  },
  {
   "cell_type": "code",
   "execution_count": 4,
   "id": "9438a9d3",
   "metadata": {},
   "outputs": [
    {
     "data": {
      "text/plain": [
       "(1, 100)"
      ]
     },
     "execution_count": 4,
     "metadata": {},
     "output_type": "execute_result"
    }
   ],
   "source": [
    "np.shape(X)\n",
    "np.shape(y)"
   ]
  },
  {
   "cell_type": "code",
   "execution_count": 5,
   "id": "796bbc31",
   "metadata": {},
   "outputs": [],
   "source": [
    "# ETAPE 3\n",
    "\n",
    "# Fonction d'activation\n",
    "def sigma(z):\n",
    "    return 1/(1+np.exp(-z))\n",
    "\n",
    "# Dérivée de la fonction d'activation\n",
    "def sigmaprime(z):\n",
    "    return np.exp(-z)/((1+np.exp(-z))**2)"
   ]
  },
  {
   "cell_type": "code",
   "execution_count": 6,
   "id": "40397e5c",
   "metadata": {},
   "outputs": [],
   "source": [
    "# ETAPE 4\n",
    "\n",
    "# Initialisation matrices poids et vecteurs biais du réseau de neurones\n",
    "\n",
    "W2 = np.random.randn(n2,1)\n",
    "b2 = np.random.randn(n2,1)\n",
    "\n",
    "W3 = np.random.randn(1,n2)\n",
    "b3 = np.random.randn(1)\n"
   ]
  },
  {
   "cell_type": "code",
   "execution_count": 7,
   "id": "6ed9cd3a",
   "metadata": {},
   "outputs": [],
   "source": [
    "# ETAPE 5\n",
    "\n",
    "# Calcul de dC/dW2, dC/dW3, dC/db2 et dC/db3 en utilisant\n",
    "# la méthode de backpropagation\n",
    "\n",
    "def backpropagation(x,y,W2,W3,b2,b3):\n",
    "    a1 = x\n",
    "    # Calculer et stocker\n",
    "    z2 = np.dot(W2,a1) + b2\n",
    "    a2 = sigma(z2)\n",
    "\n",
    "    z3 = np.dot(W3,a2) + b3\n",
    "    a3 = z3\n",
    "\n",
    "    #C = np.mean((a3 - y)**2)*0.5\n",
    "    # Calcul\n",
    "    delta3 = (a3-y)\n",
    "    # Calcul\n",
    "    delta2 = np.dot(W3.T,delta3)*sigmaprime(z2)\n",
    "    \n",
    "    dCdW2 = np.dot(delta2,a1.T)\n",
    "    #dCdW2 = dCdW2.T\n",
    "    dCdW3 = np.dot(delta3,a2.T)\n",
    "    #dCdW3 = dCdW2.T\n",
    "    dCdb2 = delta2\n",
    "    dCdb3 = delta3\n",
    "\n",
    "    return dCdW2, dCdW3, dCdb2, dCdb3"
   ]
  },
  {
   "cell_type": "code",
   "execution_count": 8,
   "id": "2d4f0327",
   "metadata": {},
   "outputs": [
    {
     "name": "stdout",
     "output_type": "stream",
     "text": [
      "dCdW2=\n",
      "[[0.09472382]\n",
      " [0.13767658]\n",
      " [0.18598269]\n",
      " [0.13201616]\n",
      " [0.04893513]]\n",
      "\n",
      "dCdW3=\n",
      "[[2.00282269 2.10390657 2.06540843 2.46139695 1.84208145]]\n",
      "\n",
      "dCdb2=\n",
      "[[0.31574606]\n",
      " [0.45892193]\n",
      " [0.6199423 ]\n",
      " [0.44005386]\n",
      " [0.1631171 ]]\n",
      "\n",
      "dCdb3=\n",
      "[[3.30567707]]\n"
     ]
    }
   ],
   "source": [
    "# Test de la fonction compute_grad:\n",
    "# Pour tester, on prendra les matrices suivantes:\n",
    "\n",
    "W2 = np.array([[0.1],[0.2],[0.7],[0.9],[0.1]])\n",
    "b2 = np.array([[0.4],[0.5],[0.3],[0.8],[0.2]])\n",
    "\n",
    "W3 = np.array([[0.4, 0.6, 0.8, 0.7, 0.2]])\n",
    "b3 = np.array([[2.5]])\n",
    "\n",
    "xi = np.array([[0.3]])\n",
    "yi = np.sin(2*np.pi*xi)\n",
    "\n",
    "dCdW2, dCdW3, dCdb2, dCdb3 = backpropagation(xi,yi,W2,W3,b2,b3)\n",
    "\n",
    "# Vous devez trouver les résultats suivants:\n",
    "print('dCdW2=')\n",
    "print(dCdW2)\n",
    "print('')\n",
    "print('dCdW3=')\n",
    "print(dCdW3)\n",
    "print('')\n",
    "print('dCdb2=')\n",
    "print(dCdb2)\n",
    "print('')\n",
    "print('dCdb3=')\n",
    "print(dCdb3)"
   ]
  },
  {
   "cell_type": "code",
   "execution_count": 9,
   "id": "05cc5753",
   "metadata": {},
   "outputs": [],
   "source": [
    "# ETAPE 6\n",
    "\n",
    "# Définition de la fonction coût\n",
    "\n",
    "def cost(y,y_pred):\n",
    "    return (1/2*n)* np.linalg.norm(y-y_pred)"
   ]
  },
  {
   "cell_type": "code",
   "execution_count": 10,
   "id": "d7d9d9af",
   "metadata": {},
   "outputs": [],
   "source": [
    "# ETAPE 7\n",
    "\n",
    "# Prediction du modèle\n",
    "\n",
    "def model_predict(X,W2,W3,b2,b3):\n",
    "    a1 = X\n",
    "    # Calculer et stocker\n",
    "    z2 = W2@a1 + b2\n",
    "    a2 = sigma(z2)\n",
    "\n",
    "    z3 = W3@a2 + b3\n",
    "    a3 = z3\n",
    "    \n",
    "    return a3"
   ]
  },
  {
   "cell_type": "code",
   "execution_count": 11,
   "id": "231378e7",
   "metadata": {},
   "outputs": [
    {
     "name": "stdout",
     "output_type": "stream",
     "text": [
      "[[4.25673358]]\n"
     ]
    }
   ],
   "source": [
    "# Test de la fonction model_predict\n",
    "\n",
    "print(model_predict(xi,W2,W3,b2,b3))"
   ]
  },
  {
   "cell_type": "markdown",
   "id": "f1cabb01",
   "metadata": {},
   "source": [
    "# Méthode de gradient stochastique avec Mini Lots"
   ]
  },
  {
   "cell_type": "code",
   "execution_count": 12,
   "id": "3ef34589",
   "metadata": {},
   "outputs": [],
   "source": [
    "Nepoch = 3000\n",
    "Nbatch = 5\n",
    "Batchsize = 20"
   ]
  },
  {
   "cell_type": "code",
   "execution_count": 13,
   "id": "88825a33",
   "metadata": {},
   "outputs": [],
   "source": [
    "# ETAPE 8\n",
    "\n",
    "# Programme principal : phase d'apprentissage\n",
    "\n",
    "\n",
    "Cost = np.zeros(Nepoch)\n",
    "\n",
    "for k in range(Nepoch):\n",
    "      \n",
    "    # Mélanger des données\n",
    "    (X,y)=shuffle(X.T,y.T)\n",
    "    X=X.T\n",
    "    y=y.T\n",
    "    \n",
    "    y_pred = model_predict(X,W2,W3,b2,b3)\n",
    "    Cost[k] = cost(y,y_pred)\n",
    "    \n",
    "    for j in range(Nbatch):\n",
    "        dCdW2 = np.zeros(W2.shape)\n",
    "        dCdW3 = np.zeros(W3.shape)\n",
    "        dCdb2 = np.zeros(b2.shape)\n",
    "        dCdb3 = np.zeros(b3.shape)\n",
    "        for i in range(Batchsize):\n",
    "            u = j*Batchsize\n",
    "            # Votre code ici\n",
    "            xi = X[0][u+i]\n",
    "            yi = y[0][u+i]\n",
    "            gW2, gW3, gb2, gb3 = backpropagation(xi,yi,W2,W3,b2,b3)\n",
    "            dCdW2 += gW2\n",
    "            dCdW3 += gW3\n",
    "            dCdb2 += gb2\n",
    "            dCdb3 += gb3\n",
    "    \n",
    "        # Actualisation des paramètres    \n",
    "        W2 = W2 - (eta/Batchsize)*dCdW2\n",
    "        W3 = W3 - (eta/Batchsize)*dCdW3\n",
    "        b2 = b2 - (eta/Batchsize)*dCdb2\n",
    "        b3 = b3 - (eta/Batchsize)*dCdb3"
   ]
  },
  {
   "cell_type": "code",
   "execution_count": 14,
   "id": "39170788",
   "metadata": {},
   "outputs": [
    {
     "data": {
      "text/plain": [
       "array([[ 0.08821156,  0.98608729, -0.61311766, -0.85722984,  0.23818306,\n",
       "         0.39370391,  0.38247127,  0.79030198, -0.89750279,  0.43366309,\n",
       "         0.90176039,  0.96281399,  0.69648413, -0.83346471,  0.95292433,\n",
       "         0.45119263,  0.58835601, -0.79113325, -0.41727564, -0.85569017,\n",
       "        -0.64626342,  0.92562774,  1.00435372,  0.99755687, -0.12113416,\n",
       "        -0.80511918,  0.16363531,  0.92963784, -0.3572755 , -0.2822449 ,\n",
       "         0.23084106,  0.7632104 , -0.48009248,  0.01247823, -0.89137751,\n",
       "         0.97739898,  0.63839563, -0.67820925, -0.76543844,  0.99621529,\n",
       "        -0.1608729 ,  0.55061884, -0.43359719, -0.88642036,  0.832079  ,\n",
       "        -0.90545954,  0.35337973, -0.6456262 ,  0.27189083, -0.35119025,\n",
       "         0.51701565, -0.53928307,  0.98904723, -0.70881853, -0.87241573,\n",
       "         0.90341189, -0.59454373,  0.51219963,  0.66139511, -0.39566822,\n",
       "        -0.27940317,  0.18965689,  0.74399644,  1.00224583, -0.50772237,\n",
       "         0.31275543, -0.91008699, -0.81486019, -0.47097867,  0.86924366,\n",
       "         0.57953479, -0.73794616, -0.6923378 ,  0.97170308,  0.31130379,\n",
       "        -0.31849658, -0.73454009, -0.13763454, -0.91118386,  0.94549177,\n",
       "         0.47318701, -0.87649663, -0.06299283, -0.54373105,  1.00272572,\n",
       "        -0.20053262, -0.83644101,  0.87902769,  0.82445103,  0.79458688,\n",
       "        -0.90201042, -0.24006148,  0.85265131,  0.62531566, -0.77214653,\n",
       "         0.73046463, -0.57890019, -0.90855415,  0.69329782, -0.21089459]])"
      ]
     },
     "execution_count": 14,
     "metadata": {},
     "output_type": "execute_result"
    }
   ],
   "source": [
    "y_pred = model_predict(X,W2,W3,b2,b3)\n",
    "y_pred"
   ]
  },
  {
   "cell_type": "code",
   "execution_count": 15,
   "id": "788caa36",
   "metadata": {},
   "outputs": [
    {
     "data": {
      "image/png": "[encoded data removed]",
      "text/plain": [
       "<Figure size 432x288 with 1 Axes>"
      ]
     },
     "metadata": {
      "needs_background": "light"
     },
     "output_type": "display_data"
    }
   ],
   "source": [
    "plt.figure()\n",
    "plt.plot(X[0],y_pred[0], '*', label= \"Prediction\")\n",
    "plt.plot(X[0],y[0],'+', label=\"Verité\" )\n",
    "plt.title('Vérité et Prédiction')\n",
    "plt.show()"
   ]
  },
  {
   "cell_type": "code",
   "execution_count": 16,
   "id": "ebe82366",
   "metadata": {},
   "outputs": [
    {
     "data": {
      "image/png": "[encoded data removed]",
      "text/plain": [
       "<Figure size 432x288 with 1 Axes>"
      ]
     },
     "metadata": {
      "needs_background": "light"
     },
     "output_type": "display_data"
    }
   ],
   "source": [
    "plt.figure()\n",
    "plt.plot(Cost)\n",
    "plt.title('Valeur de la fonction coût')\n",
    "plt.show()"
   ]
  }
 ],
 "metadata": {
  "kernelspec": {
   "display_name": "Python 3 (ipykernel)",
   "language": "python",
   "name": "python3"
  },
  "language_info": {
   "codemirror_mode": {
    "name": "ipython",
    "version": 3
   },
   "file_extension": ".py",
   "mimetype": "text/x-python",
   "name": "python",
   "nbconvert_exporter": "python",
   "pygments_lexer": "ipython3",
   "version": "3.9.7"
  }
 },
 "nbformat": 4,
 "nbformat_minor": 5
}
