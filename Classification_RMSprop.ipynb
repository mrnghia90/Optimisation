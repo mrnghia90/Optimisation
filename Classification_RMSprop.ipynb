{
 "cells": [
  {
   "cell_type": "markdown",
   "id": "472bad8f",
   "metadata": {},
   "source": [
    "# Root mean square propagation (RMSprop)"
   ]
  },
  {
   "cell_type": "code",
   "execution_count": 1,
   "id": "6a216e9b",
   "metadata": {},
   "outputs": [],
   "source": [
    "%reset -f\n",
    "\n",
    "import numpy as np\n",
    "import matplotlib.pyplot as plt\n",
    "from sklearn.utils import shuffle"
   ]
  },
  {
   "cell_type": "code",
   "execution_count": 2,
   "id": "fe1ee62c",
   "metadata": {},
   "outputs": [],
   "source": [
    "# ETAPE 1\n",
    "\n",
    "# définition des parametres : pour tester les fonctions, on prendra n2 = 5\n",
    "\n",
    "# n = nombre de données d'apprentissage \n",
    "# n2 = nombres de neurones dans la 2eme couche\n",
    "# eta = pas dans la méthode du gradient à pas fixe (= learning rate)\n",
    "# Niter = nombre d'itérations dans la méthode du gradient à pas fixe\n",
    "\n",
    "n = 120\n",
    "n1 = n//2\n",
    "n2 = 15\n",
    "eta = 0.3 #learning rate\n",
    "\n",
    "Nepoch = 2500\n",
    "Nbatch = 12\n",
    "Batchsize = 10\n",
    "\n",
    "epsi = 10**(-8)"
   ]
  },
  {
   "cell_type": "code",
   "execution_count": 3,
   "id": "dd3dbe99",
   "metadata": {},
   "outputs": [],
   "source": [
    "# ETAPE 2\n",
    "\n",
    "# génération des données d'apprentissage\n",
    "\n",
    "U = (np.random.rand(n)).reshape(1,n)\n",
    "X = np.zeros(n).reshape(1,n)\n",
    "X[0][:n1] = np.sin(2*np.pi*U[0][:60])\n",
    "X[0][n1:] = np.exp(U[0][60:])-1\n",
    "\n",
    "y = np.zeros(n).reshape(1,n)\n",
    "y[0][:n1] = 1\n",
    "y[0][n1:] = 0"
   ]
  },
  {
   "cell_type": "code",
   "execution_count": 4,
   "id": "ad053f2f",
   "metadata": {},
   "outputs": [],
   "source": [
    "# ETAPE 3\n",
    "\n",
    "# Fonction d'activation\n",
    "def sigma(z):\n",
    "    return 1/(1+np.exp(-z))\n",
    "\n",
    "# Dérivée de la fonction d'activation\n",
    "def sigmaprime(z):\n",
    "    return np.exp(-z)/((1+np.exp(-z))**2)\n",
    "\n",
    "def softmax(z):\n",
    "    \n",
    "    u = 1.0/np.sum(np.exp(z), axis=0)\n",
    "    \n",
    "    return u*np.exp(z)"
   ]
  },
  {
   "cell_type": "code",
   "execution_count": 5,
   "id": "82ee0993",
   "metadata": {},
   "outputs": [],
   "source": [
    "# ETAPE 4\n",
    "\n",
    "# Initialisation matrices poids et vecteurs biais du réseau de neurones\n",
    "\n",
    "W2 = np.random.randn(n2,1)\n",
    "b2 = np.random.randn(n2,1)\n",
    "\n",
    "W3 = np.random.randn(1,n2)\n",
    "b3 = np.random.randn(1,1)"
   ]
  },
  {
   "cell_type": "code",
   "execution_count": 6,
   "id": "30591322",
   "metadata": {},
   "outputs": [],
   "source": [
    "# ETAPE 5\n",
    "\n",
    "# Calcul de dC/dW2, dC/dW3, dC/db2 et dC/db3 en utilisant\n",
    "# la méthode de backpropagation\n",
    "\n",
    "def compute_grad(x,y,W2,W3,b2,b3):\n",
    "    a1 = x\n",
    "    # Calculer et stocker\n",
    "    z2 = np.dot(W2,a1) + b2\n",
    "    a2 = sigma(z2)\n",
    "\n",
    "    z3 = np.dot(W3,a2) + b3\n",
    "    a3 = sigma(z3)\n",
    "\n",
    "    # Calcul\n",
    "    delta3 = (a3-y)*sigmaprime(z3)\n",
    "    # Calcul\n",
    "    delta2 = np.dot(W3.T,delta3)*sigmaprime(z2)\n",
    "    \n",
    "    dCdW2 = np.dot(delta2,a1.T)\n",
    "    dCdW3 = np.dot(delta3,a2.T)\n",
    "    dCdb2 = delta2\n",
    "    dCdb3 = delta3\n",
    "\n",
    "    return dCdW2, dCdW3, dCdb2, dCdb3"
   ]
  },
  {
   "cell_type": "code",
   "execution_count": 7,
   "id": "1610d988",
   "metadata": {},
   "outputs": [],
   "source": [
    "# ETAPE 6\n",
    "\n",
    "# Définition de la fonction coût\n",
    "\n",
    "def cost(y,y_pred):\n",
    "    return (1/2*n)*(np.linalg.norm(y-y_pred))**2"
   ]
  },
  {
   "cell_type": "code",
   "execution_count": 8,
   "id": "c3ad4d13",
   "metadata": {},
   "outputs": [],
   "source": [
    "# ETAPE 7\n",
    "\n",
    "# Prediction du modèle\n",
    "\n",
    "def model_predict(X,W2,W3,b2,b3):\n",
    "    a1 = X\n",
    "    # Calculer et stocker\n",
    "    z2 = W2@a1 + b2\n",
    "    a2 = sigma(z2)\n",
    "\n",
    "    z3 = W3@a2 + b3\n",
    "    a3 = sigma(z3)\n",
    "     \n",
    "    return a3"
   ]
  },
  {
   "cell_type": "code",
   "execution_count": 9,
   "id": "909b56e4",
   "metadata": {},
   "outputs": [],
   "source": [
    "Cost = np.zeros(Nepoch)\n",
    "Acc = np.zeros(Nepoch)\n",
    "beta = 0.9\n",
    "\n",
    "\n",
    "dCdW2_avg = np.zeros(W2.shape)\n",
    "dCdW3_avg = np.zeros(W3.shape)\n",
    "dCdb2_avg = np.zeros(b2.shape)\n",
    "dCdb3_avg = np.zeros(b3.shape)\n",
    "\n",
    "HkW2=np.zeros(W2.shape)\n",
    "HkW3=np.zeros(W3.shape)\n",
    "Hkb2=np.zeros(b2.shape)\n",
    "Hkb3=np.zeros(b3.shape)\n",
    "\n",
    "for k in range(Nepoch):\n",
    "    \n",
    "    # Votre code ici\n",
    "    \n",
    "    # Mélanger des données\n",
    "    (X,y) = shuffle(X.T,y.T)\n",
    "    X = X.T\n",
    "    y = y.T\n",
    "    y_pred = model_predict(X,W2,W3,b2,b3)\n",
    "    Cost[k] = cost(y,y_pred)\n",
    "    Acc[k] = 1-0.5*np.sum(np.abs(np.round(y_pred)-y))/n\n",
    "    for j in range(Nbatch):\n",
    "        dCdW2 = np.zeros(W2.shape)\n",
    "        dCdW3 = np.zeros(W3.shape)\n",
    "        dCdb2 = np.zeros(b2.shape)\n",
    "        dCdb3 = np.zeros(b3.shape)\n",
    "        for i in range(Batchsize):\n",
    "            u = j*Batchsize\n",
    "\n",
    "            xi = X[0][u+i]\n",
    "            yi = y[0][u+i]\n",
    "            \n",
    "            gW2, gW3, gb2, gb3 = compute_grad(xi,yi,W2,W3,b2,b3)\n",
    "            \n",
    "            dCdW2 += gW2\n",
    "            dCdW3 += gW3\n",
    "            dCdb2 += gb2\n",
    "            dCdb3 += gb3\n",
    "            \n",
    "        dCdW2_avg = beta*dCdW2_avg + (1-beta)*dCdW2*dCdW2\n",
    "        dCdW3_avg = beta*dCdW3_avg + (1-beta)*dCdW3*dCdW3\n",
    "        dCdb2_avg = beta*dCdb2_avg + (1-beta)*dCdb2*dCdb2\n",
    "        dCdb3_avg = beta*dCdb3_avg + (1-beta)*dCdb3*dCdb3\n",
    "            \n",
    "        HkW2=1/(np.sqrt(dCdW2_avg+epsi))\n",
    "        HkW3=1/(np.sqrt(dCdW3_avg+epsi))\n",
    "        Hkb2=1/(np.sqrt(dCdb2_avg+epsi))\n",
    "        Hkb3=1/(np.sqrt(dCdb3_avg+epsi))\n",
    "        \n",
    "        # Actualisation des paramètres    \n",
    "        W2 = W2 - (eta/Batchsize)*HkW2*dCdW2\n",
    "        W3 = W3 - (eta/Batchsize)*HkW3*dCdW3\n",
    "        b2 = b2 - (eta/Batchsize)*Hkb2*dCdb2\n",
    "        b3 = b3 - (eta/Batchsize)*Hkb3*dCdb3\n"
   ]
  },
  {
   "cell_type": "code",
   "execution_count": 10,
   "id": "826173a4",
   "metadata": {},
   "outputs": [
    {
     "data": {
      "text/plain": [
       "array([[1.00000000e+00, 1.00000000e+00, 1.00000000e+00, 4.93492886e-01,\n",
       "        1.00000000e+00, 1.00000000e+00, 6.64738316e-04, 6.89519451e-01,\n",
       "        9.99998421e-01, 6.99422006e-01, 2.83902476e-01, 3.03069320e-01,\n",
       "        6.00295435e-01, 2.87603254e-01, 1.00000000e+00, 6.91501566e-01,\n",
       "        1.00000000e+00, 1.41025735e-05, 6.94724354e-01, 2.59405777e-01,\n",
       "        1.00000000e+00, 5.01873225e-01, 2.65776230e-01, 1.62777341e-02,\n",
       "        2.67652188e-01, 1.00000000e+00, 2.04214751e-02, 6.79305589e-01,\n",
       "        2.97733750e-01, 1.00000000e+00, 7.07033624e-01, 6.19831490e-01,\n",
       "        2.04848531e-04, 7.05874422e-01, 5.64868422e-01, 3.32999578e-01,\n",
       "        6.94668435e-01, 1.03509895e-04, 2.75790867e-01, 2.91315889e-01,\n",
       "        9.99999999e-01, 3.44623914e-01, 1.00000000e+00, 4.25172358e-01,\n",
       "        7.12663188e-06, 7.09993541e-01, 1.06494972e-04, 9.99999998e-01,\n",
       "        2.62273871e-01, 2.74354644e-01, 1.00000000e+00, 3.19665825e-01,\n",
       "        9.99416690e-01, 2.97758418e-01, 6.91470744e-01, 4.17552017e-01,\n",
       "        2.59786468e-01, 2.92638886e-01, 1.00000000e+00, 4.11494761e-01,\n",
       "        9.99999754e-01, 1.63796896e-01, 2.66173106e-01, 1.00000000e+00,\n",
       "        2.05124129e-05, 1.00000000e+00, 1.21962127e-04, 3.84446140e-01,\n",
       "        4.24760225e-01, 2.08022978e-03, 8.62721952e-02, 2.59270380e-01,\n",
       "        6.98809928e-01, 3.37467972e-01, 1.38355892e-05, 2.62331407e-01,\n",
       "        2.77912005e-01, 2.16658407e-05, 1.00000000e+00, 5.83435576e-01,\n",
       "        1.00000000e+00, 4.32953189e-06, 1.00000000e+00, 9.72122565e-03,\n",
       "        8.49045694e-04, 1.00000000e+00, 5.84176839e-01, 1.00000000e+00,\n",
       "        1.00000000e+00, 1.00000000e+00, 6.37774499e-01, 1.00000000e+00,\n",
       "        4.18433003e-01, 5.90336045e-01, 1.00000000e+00, 9.99999999e-01,\n",
       "        1.86440346e-05, 1.21938582e-03, 6.93906090e-01, 1.00000000e+00,\n",
       "        3.65628712e-01, 6.79891206e-01, 5.98703234e-04, 2.67041389e-01,\n",
       "        1.00000000e+00, 4.00999936e-01, 4.10818338e-01, 3.74991206e-02,\n",
       "        2.35834057e-02, 6.25072360e-01, 1.00000000e+00, 6.38605557e-01,\n",
       "        2.59772278e-01, 6.93242204e-01, 3.45478847e-01, 1.00000000e+00,\n",
       "        7.09236263e-01, 3.94138717e-01, 3.63139786e-01, 3.29247900e-01]])"
      ]
     },
     "execution_count": 10,
     "metadata": {},
     "output_type": "execute_result"
    }
   ],
   "source": [
    "y_pred = model_predict(X,W2,W3,b2,b3)\n",
    "y_pred"
   ]
  },
  {
   "cell_type": "code",
   "execution_count": 11,
   "id": "8a981142",
   "metadata": {},
   "outputs": [],
   "source": [
    "def classification(y_true,y_pred):\n",
    "    return 1-0.5*np.sum(np.abs(np.round(y_pred)-y))/n\n"
   ]
  },
  {
   "cell_type": "code",
   "execution_count": 12,
   "id": "cc590ca6",
   "metadata": {},
   "outputs": [],
   "source": [
    "# génération des données d'apprentissage\n",
    "\n",
    "U = (np.random.rand(n)).reshape(1,n)\n",
    "X = np.zeros(n).reshape(1,n)\n",
    "X[0][:n1] = np.sin(2*np.pi*U[0][:60])\n",
    "X[0][n1:] = np.exp(U[0][60:])-1\n",
    "\n",
    "y = np.zeros(n).reshape(1,n)\n",
    "y[0][:n1] = 1\n",
    "y[0][n1:] = 0"
   ]
  },
  {
   "cell_type": "code",
   "execution_count": 13,
   "id": "af66f225",
   "metadata": {},
   "outputs": [
    {
     "name": "stdout",
     "output_type": "stream",
     "text": [
      "Niveau de précision :  76.25\n"
     ]
    }
   ],
   "source": [
    "print('Niveau de précision : ',classification(y,y_pred)*100)"
   ]
  },
  {
   "cell_type": "code",
   "execution_count": 14,
   "id": "34a6e689",
   "metadata": {},
   "outputs": [
    {
     "data": {
      "image/png": "[encoded data removed]",
      "text/plain": [
       "<Figure size 432x288 with 1 Axes>"
      ]
     },
     "metadata": {
      "needs_background": "light"
     },
     "output_type": "display_data"
    }
   ],
   "source": [
    "plt.figure()\n",
    "plt.plot(Cost)\n",
    "plt.title('Fonction coût')\n",
    "plt.show()"
   ]
  },
  {
   "cell_type": "code",
   "execution_count": 15,
   "id": "aa6d9072",
   "metadata": {},
   "outputs": [
    {
     "data": {
      "image/png": "[encoded data removed]",
      "text/plain": [
       "<Figure size 432x288 with 1 Axes>"
      ]
     },
     "metadata": {
      "needs_background": "light"
     },
     "output_type": "display_data"
    }
   ],
   "source": [
    "plt.figure()\n",
    "plt.plot(Acc)\n",
    "plt.title('Précision')\n",
    "plt.show()"
   ]
  }
 ],
 "metadata": {
  "kernelspec": {
   "display_name": "Python 3 (ipykernel)",
   "language": "python",
   "name": "python3"
  },
  "language_info": {
   "codemirror_mode": {
    "name": "ipython",
    "version": 3
   },
   "file_extension": ".py",
   "mimetype": "text/x-python",
   "name": "python",
   "nbconvert_exporter": "python",
   "pygments_lexer": "ipython3",
   "version": "3.9.7"
  }
 },
 "nbformat": 4,
 "nbformat_minor": 5
}
