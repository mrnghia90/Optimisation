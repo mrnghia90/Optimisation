{
 "cells": [
  {
   "cell_type": "code",
   "execution_count": 1,
   "id": "c0c93932",
   "metadata": {},
   "outputs": [],
   "source": [
    "%reset -f\n",
    "\n",
    "import numpy as np\n",
    "import matplotlib.pyplot as plt\n",
    "from sklearn.utils import shuffle"
   ]
  },
  {
   "cell_type": "code",
   "execution_count": 2,
   "id": "dcddcd30",
   "metadata": {},
   "outputs": [],
   "source": [
    "# parametres: \n",
    "# N = nombre de données d'apprentissage \n",
    "# n2 = nombres de neurones dans la 2eme couche\n",
    "# eta = pas dans la méthode du gradient à pas fixe (= learning rate)\n",
    "# Nepoch = nombre d'epoch\n",
    "# beta = parametre de la moyenne glissante\n",
    "\n",
    "N = 120\n",
    "n2 = 12\n",
    "eta = 0.1\n",
    "Nepoch = 3000\n",
    "Nbatch = 12\n",
    "Batch_size = 10\n",
    "beta = 0.9\n",
    "eps = 10**-8"
   ]
  },
  {
   "cell_type": "code",
   "execution_count": 3,
   "id": "133e0a94",
   "metadata": {},
   "outputs": [],
   "source": [
    "# génération des données d'apprentissage       \n",
    "X = np.random.rand(N) \n",
    "y = np.zeros((2,N))\n",
    "n = int(N/2)\n",
    "X[0:n] = np.sin(2*np.pi*X[0:n])\n",
    "X[n:N] = np.exp(X[n:N])-1\n",
    "\n",
    "y[0,0:n] = 1             \n",
    "y[1,n:N] = 1\n",
    "\n",
    "X = X.reshape(1,N)"
   ]
  },
  {
   "cell_type": "code",
   "execution_count": 4,
   "id": "796bbc31",
   "metadata": {},
   "outputs": [],
   "source": [
    "def sigma(z):\n",
    "    return 1/(1+np.exp(-z))"
   ]
  },
  {
   "cell_type": "code",
   "execution_count": 5,
   "id": "471fae93",
   "metadata": {},
   "outputs": [],
   "source": [
    "def sigma_prim(z):\n",
    "    return np.exp(-z)/((1+np.exp(-z))**2)"
   ]
  },
  {
   "cell_type": "code",
   "execution_count": 6,
   "id": "8d051c15",
   "metadata": {},
   "outputs": [],
   "source": [
    "def softmax(z):\n",
    "    \n",
    "    u = 1.0/np.sum(np.exp(z), axis=0)\n",
    "    \n",
    "    return u*np.exp(z)"
   ]
  },
  {
   "cell_type": "code",
   "execution_count": 7,
   "id": "40397e5c",
   "metadata": {},
   "outputs": [],
   "source": [
    "# Matrices poids et vecteurs biais du réseau de neurones\n",
    "\n",
    "W2 = np.random.randn(n2,1)\n",
    "b2 =np.random.randn(n2,1)\n",
    "\n",
    "W3 = np.random.randn(2,n2)\n",
    "b3 = np.random.randn(2,1)"
   ]
  },
  {
   "cell_type": "code",
   "execution_count": 8,
   "id": "6ed9cd3a",
   "metadata": {},
   "outputs": [],
   "source": [
    "# backpropagation\n",
    "\n",
    "def compute_grad(x,y,W2,W3,b2,b3):\n",
    "    A1 = x\n",
    "\n",
    "    Z2 = W2@A1 + b2\n",
    "    A2 = sigma(Z2)\n",
    "\n",
    "    Z3 = W3@A2 + b3\n",
    "    A3 = softmax(Z3)\n",
    "\n",
    "    delta_3 = (A3-y)\n",
    "    delta_2 = (np.transpose(W3)@delta_3)*sigma_prim(Z2)\n",
    "\n",
    "    grad_W2 = delta_2@np.transpose(A1)\n",
    "    grad_W3 = delta_3@np.transpose(A2)\n",
    "\n",
    "    return grad_W2, grad_W3, delta_2, delta_3"
   ]
  },
  {
   "cell_type": "code",
   "execution_count": 9,
   "id": "05cc5753",
   "metadata": {},
   "outputs": [],
   "source": [
    "# fonction cout\n",
    "\n",
    "def cost(y,y_pred):\n",
    "    xx = -np.sum(y*np.log(y_pred), axis=0)\n",
    "    return np.sum(xx)/N"
   ]
  },
  {
   "cell_type": "code",
   "execution_count": 10,
   "id": "776cd73e",
   "metadata": {},
   "outputs": [],
   "source": [
    "def model_predict(X,W2,W3,b2,b3):\n",
    "    \n",
    "    A1 = X\n",
    "\n",
    "    Z2 = W2@A1 + b2\n",
    "    A2 = sigma(Z2)\n",
    "\n",
    "    Z3 = W3@A2 + b3\n",
    "    A3 = softmax(Z3)\n",
    "    \n",
    "    return A3"
   ]
  },
  {
   "cell_type": "code",
   "execution_count": 11,
   "id": "7efa7861",
   "metadata": {},
   "outputs": [],
   "source": [
    "# programme principal\n",
    "\n",
    "Cost = np.zeros(Nepoch)\n",
    "Acc = np.zeros(Nepoch)\n",
    "\n",
    "U_W2 = np.zeros(W2.shape)\n",
    "U_W3 = np.zeros(W3.shape)\n",
    "U_b2 = np.zeros(b2.shape)\n",
    "U_b3 = np.zeros(b3.shape)\n",
    "\n",
    "for j in range(Nepoch):\n",
    "    \n",
    "    y_pred = model_predict(X,W2,W3,b2,b3)\n",
    "    Cost[j] = cost(y,y_pred)\n",
    "    Acc[j] = 1-0.5*np.sum(np.abs(np.round(y_pred)-y))/N\n",
    "    X, y = shuffle(X.T, y.T)\n",
    "    X = X.T\n",
    "    y = y.T\n",
    "    \n",
    "    for k in range(Nbatch):\n",
    "        \n",
    "        dC_dW2 = np.zeros(W2.shape)\n",
    "        dC_dW3 = np.zeros(W3.shape)\n",
    "        dC_db2 = np.zeros(b2.shape)\n",
    "        dC_db3 = np.zeros(b3.shape)\n",
    "        \n",
    "        for i in range(k*Batch_size,(k+1)*Batch_size):\n",
    "        \n",
    "            x_i = X[0,i].reshape(1,1)\n",
    "            y_i = y[0:2,i].reshape(2,1)\n",
    "\n",
    "            g_W2,g_W3,g_b2,g_b3 = compute_grad(x_i,y_i,W2,W3,b2,b3)\n",
    "\n",
    "            dC_dW2 = dC_dW2 + g_W2\n",
    "            dC_dW3 = dC_dW3 + g_W3\n",
    "            dC_db2 = dC_db2 + g_b2\n",
    "            dC_db3 = dC_db3 + g_b3\n",
    "            \n",
    "        U_W2 = beta*U_W2 + (1.0-beta)*dC_dW2*dC_dW2\n",
    "        U_W3 = beta*U_W3 + (1.0-beta)*dC_dW3*dC_dW3\n",
    "        U_b2 = beta*U_b2 + (1.0-beta)*dC_db2*dC_db2\n",
    "        U_b3 = beta*U_b3 + (1.0-beta)*dC_db3*dC_db3\n",
    "        \n",
    "        H_W2 = 1/np.sqrt(U_W2+eps)\n",
    "        H_W3 = 1/np.sqrt(U_W3+eps)\n",
    "        H_b2 = 1/np.sqrt(U_b2+eps)\n",
    "        H_b3 = 1/np.sqrt(U_b3+eps)\n",
    "        \n",
    "        W2 = W2 - (eta/Batch_size)*H_W2*dC_dW2\n",
    "        W3 = W3 - (eta/Batch_size)*H_W3*dC_dW3\n",
    "        b2 = b2 - (eta/Batch_size)*H_b2*dC_db2\n",
    "        b3 = b3 - (eta/Batch_size)*H_b3*dC_db3"
   ]
  },
  {
   "cell_type": "code",
   "execution_count": 12,
   "id": "e715cb60",
   "metadata": {},
   "outputs": [],
   "source": [
    "y_pred = model_predict(X,W2,W3,b2,b3)"
   ]
  },
  {
   "cell_type": "code",
   "execution_count": 13,
   "id": "4d51dda9",
   "metadata": {},
   "outputs": [
    {
     "data": {
      "text/plain": [
       "[<matplotlib.lines.Line2D at 0x23f7092cc70>]"
      ]
     },
     "execution_count": 13,
     "metadata": {},
     "output_type": "execute_result"
    },
    {
     "data": {
      "image/png": "[encoded data removed]",
      "text/plain": [
       "<Figure size 640x480 with 1 Axes>"
      ]
     },
     "metadata": {},
     "output_type": "display_data"
    }
   ],
   "source": [
    "plt.plot(Cost)"
   ]
  },
  {
   "cell_type": "code",
   "execution_count": 14,
   "id": "4484f755",
   "metadata": {},
   "outputs": [
    {
     "data": {
      "text/plain": [
       "[<matplotlib.lines.Line2D at 0x23f71b3a8b0>]"
      ]
     },
     "execution_count": 14,
     "metadata": {},
     "output_type": "execute_result"
    },
    {
     "data": {
      "image/png": "[encoded data removed]",
      "text/plain": [
       "<Figure size 640x480 with 1 Axes>"
      ]
     },
     "metadata": {},
     "output_type": "display_data"
    }
   ],
   "source": [
    "plt.plot(Acc)"
   ]
  },
  {
   "cell_type": "code",
   "execution_count": 15,
   "id": "cc3804ba",
   "metadata": {},
   "outputs": [],
   "source": [
    "# generate validation data\n",
    "X = np.random.rand(N) \n",
    "y = np.zeros((2,N))\n",
    "n = int(N/2)\n",
    "X[0:n] = np.sin(2*np.pi*X[0:n])\n",
    "X[n:N] = np.exp(X[n:N])-1\n",
    "\n",
    "y[0,0:n] = 1             \n",
    "y[1,n:N] = 1\n",
    "\n",
    "X = X.reshape(1,N)"
   ]
  },
  {
   "cell_type": "code",
   "execution_count": 16,
   "id": "8ee45f5f",
   "metadata": {},
   "outputs": [
    {
     "name": "stdout",
     "output_type": "stream",
     "text": [
      "0.75\n"
     ]
    }
   ],
   "source": [
    "# prediction du modele\n",
    "y_pred = model_predict(X,W2,W3,b2,b3)\n",
    "\n",
    "# Calcul de la précision\n",
    "print(1-0.5*np.sum(np.abs(np.round(y_pred)-y))/N)"
   ]
  }
 ],
 "metadata": {
  "kernelspec": {
   "display_name": "Python 3 (ipykernel)",
   "language": "python",
   "name": "python3"
  },
  "language_info": {
   "codemirror_mode": {
    "name": "ipython",
    "version": 3
   },
   "file_extension": ".py",
   "mimetype": "text/x-python",
   "name": "python",
   "nbconvert_exporter": "python",
   "pygments_lexer": "ipython3",
   "version": "3.9.7"
  }
 },
 "nbformat": 4,
 "nbformat_minor": 5
}
