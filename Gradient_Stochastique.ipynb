{
 "cells": [
  {
   "cell_type": "markdown",
   "id": "ebffa8ab",
   "metadata": {},
   "source": [
    "# Méthode de gradient stochastique"
   ]
  },
  {
   "cell_type": "code",
   "execution_count": 1,
   "id": "c0c93932",
   "metadata": {},
   "outputs": [],
   "source": [
    "%reset -f\n",
    "\n",
    "import numpy as np\n",
    "import matplotlib.pyplot as plt\n",
    "from sklearn.utils import shuffle"
   ]
  },
  {
   "cell_type": "code",
   "execution_count": 2,
   "id": "dcddcd30",
   "metadata": {},
   "outputs": [],
   "source": [
    "# ETAPE 1\n",
    "\n",
    "# définition des parametres : pour tester les fonctions, on prendra n2 = 5\n",
    "\n",
    "# n = nombre de données d'apprentissage \n",
    "# n2 = nombres de neurones dans la 2eme couche\n",
    "# eta = pas dans la méthode du gradient à pas fixe (= learning rate)\n",
    "# Niter = nombre d'itérations dans la méthode du gradient à pas fixe\n",
    "\n",
    "n = 100\n",
    "n2 = 5\n",
    "eta = 0.3 #learning rate\n",
    "\n",
    "Nepoch = 6000"
   ]
  },
  {
   "cell_type": "code",
   "execution_count": 3,
   "id": "133e0a94",
   "metadata": {},
   "outputs": [],
   "source": [
    "# ETAPE 2\n",
    "\n",
    "# génération des données d'apprentissage\n",
    "\n",
    "X = np.linspace(0,1,n).reshape(1,n)\n",
    "y = np.sin(2*np.pi*X)"
   ]
  },
  {
   "cell_type": "code",
   "execution_count": 4,
   "id": "9438a9d3",
   "metadata": {},
   "outputs": [
    {
     "data": {
      "text/plain": [
       "(1, 100)"
      ]
     },
     "execution_count": 4,
     "metadata": {},
     "output_type": "execute_result"
    }
   ],
   "source": [
    "np.shape(X)\n",
    "np.shape(y)"
   ]
  },
  {
   "cell_type": "code",
   "execution_count": 5,
   "id": "796bbc31",
   "metadata": {},
   "outputs": [],
   "source": [
    "# ETAPE 3\n",
    "\n",
    "# Fonction d'activation\n",
    "def sigma(z):\n",
    "    return 1/(1+np.exp(-z))\n",
    "\n",
    "# Dérivée de la fonction d'activation\n",
    "def sigmaprime(z):\n",
    "    return np.exp(-z)/((1+np.exp(-z))**2)"
   ]
  },
  {
   "cell_type": "code",
   "execution_count": 6,
   "id": "40397e5c",
   "metadata": {},
   "outputs": [],
   "source": [
    "# ETAPE 4\n",
    "\n",
    "# Initialisation matrices poids et vecteurs biais du réseau de neurones\n",
    "\n",
    "W2 = np.random.randn(n2,1)\n",
    "b2 = np.random.randn(n2,1)\n",
    "\n",
    "W3 = np.random.randn(1,n2)\n",
    "b3 = np.random.randn(1)\n"
   ]
  },
  {
   "cell_type": "code",
   "execution_count": 7,
   "id": "6ed9cd3a",
   "metadata": {},
   "outputs": [],
   "source": [
    "# ETAPE 5\n",
    "\n",
    "# Calcul de dC/dW2, dC/dW3, dC/db2 et dC/db3 en utilisant\n",
    "# la méthode de backpropagation\n",
    "\n",
    "def backpropagation(x,y,W2,W3,b2,b3):\n",
    "    a1 = x\n",
    "    # Calculer et stocker\n",
    "    z2 = np.dot(W2,a1) + b2\n",
    "    a2 = sigma(z2)\n",
    "\n",
    "    z3 = np.dot(W3,a2) + b3\n",
    "    a3 = z3\n",
    "\n",
    "    #C = np.mean((a3 - y)**2)*0.5\n",
    "    # Calcul\n",
    "    delta3 = (a3-y)\n",
    "    # Calcul\n",
    "    delta2 = np.dot(W3.T,delta3)*sigmaprime(z2)\n",
    "    \n",
    "    dCdW2 = np.dot(delta2,a1.T)\n",
    "    #dCdW2 = dCdW2.T\n",
    "    dCdW3 = np.dot(delta3,a2.T)\n",
    "    #dCdW3 = dCdW2.T\n",
    "    dCdb2 = delta2\n",
    "    dCdb3 = delta3\n",
    "\n",
    "    return dCdW2, dCdW3, dCdb2, dCdb3"
   ]
  },
  {
   "cell_type": "code",
   "execution_count": 8,
   "id": "2d4f0327",
   "metadata": {},
   "outputs": [
    {
     "name": "stdout",
     "output_type": "stream",
     "text": [
      "dCdW2=\n",
      "[[0.09472382]\n",
      " [0.13767658]\n",
      " [0.18598269]\n",
      " [0.13201616]\n",
      " [0.04893513]]\n",
      "\n",
      "dCdW3=\n",
      "[[2.00282269 2.10390657 2.06540843 2.46139695 1.84208145]]\n",
      "\n",
      "dCdb2=\n",
      "[[0.31574606]\n",
      " [0.45892193]\n",
      " [0.6199423 ]\n",
      " [0.44005386]\n",
      " [0.1631171 ]]\n",
      "\n",
      "dCdb3=\n",
      "[[3.30567707]]\n"
     ]
    }
   ],
   "source": [
    "# Test de la fonction compute_grad:\n",
    "# Pour tester, on prendra les matrices suivantes:\n",
    "\n",
    "W2 = np.array([[0.1],[0.2],[0.7],[0.9],[0.1]])\n",
    "b2 = np.array([[0.4],[0.5],[0.3],[0.8],[0.2]])\n",
    "\n",
    "W3 = np.array([[0.4, 0.6, 0.8, 0.7, 0.2]])\n",
    "b3 = np.array([[2.5]])\n",
    "\n",
    "xi = np.array([[0.3]])\n",
    "yi = np.sin(2*np.pi*xi)\n",
    "\n",
    "dCdW2, dCdW3, dCdb2, dCdb3 = backpropagation(xi,yi,W2,W3,b2,b3)\n",
    "\n",
    "# Vous devez trouver les résultats suivants:\n",
    "print('dCdW2=')\n",
    "print(dCdW2)\n",
    "print('')\n",
    "print('dCdW3=')\n",
    "print(dCdW3)\n",
    "print('')\n",
    "print('dCdb2=')\n",
    "print(dCdb2)\n",
    "print('')\n",
    "print('dCdb3=')\n",
    "print(dCdb3)"
   ]
  },
  {
   "cell_type": "code",
   "execution_count": 9,
   "id": "05cc5753",
   "metadata": {},
   "outputs": [],
   "source": [
    "# ETAPE 6\n",
    "\n",
    "# Définition de la fonction coût\n",
    "\n",
    "def cost(y,y_pred):  \n",
    "    return (1/(2*n))*np.sum((y-y_pred)**2)"
   ]
  },
  {
   "cell_type": "code",
   "execution_count": 10,
   "id": "d7d9d9af",
   "metadata": {},
   "outputs": [],
   "source": [
    "# ETAPE 7\n",
    "\n",
    "# Prediction du modèle\n",
    "\n",
    "def model_predict(X,W2,W3,b2,b3):\n",
    "    a1 = X\n",
    "    # Calculer et stocker\n",
    "    z2 = W2@a1 + b2\n",
    "    a2 = sigma(z2)\n",
    "\n",
    "    z3 = W3@a2 + b3\n",
    "    a3 = z3\n",
    "    \n",
    "    return a3"
   ]
  },
  {
   "cell_type": "code",
   "execution_count": 11,
   "id": "231378e7",
   "metadata": {},
   "outputs": [
    {
     "name": "stdout",
     "output_type": "stream",
     "text": [
      "[[4.25673358]]\n"
     ]
    }
   ],
   "source": [
    "# Test de la fonction model_predict\n",
    "\n",
    "print(model_predict(xi,W2,W3,b2,b3))"
   ]
  },
  {
   "cell_type": "code",
   "execution_count": 12,
   "id": "20a3bb8b",
   "metadata": {},
   "outputs": [],
   "source": [
    "# ETAPE 8\n",
    "\n",
    "# Programme principal : phase d'apprentissage\n",
    "Cost = np.zeros(Nepoch)\n",
    "\n",
    "for k in range(1,Nepoch):\n",
    "    dCdW2 = np.zeros(W2.shape)\n",
    "    dCdW3 = np.zeros(W3.shape)\n",
    "    dCdb2 = np.zeros(b2.shape)\n",
    "    dCdb3 = np.zeros(b3.shape)\n",
    "    \n",
    "    (X,y)=shuffle(X.T,y.T)\n",
    "    X=X.T\n",
    "    y=y.T\n",
    "    y_pred = model_predict(X,W2,W3,b2,b3)\n",
    "    Cost[k] = cost(y,y_pred)     \n",
    "    \n",
    "    for i in range(1,n):\n",
    "        xi = X[0][i]\n",
    "        yi = y[0][i]\n",
    "        gW2, gW3, gb2, gb3 = backpropagation(xi,yi,W2,W3,b2,b3)\n",
    "        dCdW2 += gW2\n",
    "        dCdW3 += gW3\n",
    "        dCdb2 += gb2\n",
    "        dCdb3 += gb3\n",
    "        \n",
    "    # Actualisation des paramètres    \n",
    "    W2 = W2 - (eta/n)*dCdW2\n",
    "    W3 = W3 - (eta/n)*dCdW3\n",
    "    b2 = b2 - (eta/n)*dCdb2\n",
    "    b3 = b3 - (eta/n)*dCdb3  "
   ]
  },
  {
   "cell_type": "code",
   "execution_count": 13,
   "id": "15f37037",
   "metadata": {},
   "outputs": [
    {
     "data": {
      "text/plain": [
       "array([[ 0.62061928,  0.63485848, -0.60897717, -0.71369311, -0.74211398,\n",
       "        -0.65184914, -0.62636576, -0.52394124, -0.57956196,  0.42046792,\n",
       "        -0.70649605,  0.49469193, -0.6200167 ,  0.77222108,  0.76055178,\n",
       "        -0.73959683,  0.69946448,  0.77004385,  0.73214043,  0.67513771,\n",
       "        -0.26406877, -0.45959148, -0.74293627,  0.77280839, -0.59777404,\n",
       "         0.75508457,  0.70281597, -0.68100612,  0.56044534,  0.11060251,\n",
       "        -0.73609323,  0.5760592 , -0.74068419,  0.7107046 ,  0.15807893,\n",
       "        -0.66453379, -0.69445867,  0.606047  ,  0.76618449, -0.22001021,\n",
       "         0.74802097, -0.42425682,  0.5899529 , -0.08120323,  0.64203471,\n",
       "         0.56071509,  0.73997677, -0.58643432,  0.45858887,  0.01456818,\n",
       "         0.68484017,  0.77189806, -0.68993867,  0.29539494, -0.68049543,\n",
       "        -0.60406031, -0.72511271, -0.73702259,  0.52867161, -0.69839932,\n",
       "        -0.74386751, -0.71668628,  0.59118131,  0.64872212,  0.76594891,\n",
       "         0.71856366,  0.66216471, -0.49284003,  0.68758934, -0.55285517,\n",
       "        -0.74356505, -0.72642929,  0.72124767, -0.67165047, -0.12835809,\n",
       "        -0.70633597,  0.61715554,  0.73102811,  0.06268065,  0.20486081,\n",
       "         0.38045759,  0.76958156, -0.72041174, -0.6619173 , -0.03347808,\n",
       "        -0.30668509,  0.76108808,  0.33870899,  0.75305659,  0.74361315,\n",
       "         0.66459053, -0.64148556, -0.73186194,  0.25070847, -0.63086337,\n",
       "        -0.64650897, -0.38691954, -0.34768591, -0.17470281, -0.73167968]])"
      ]
     },
     "execution_count": 13,
     "metadata": {},
     "output_type": "execute_result"
    }
   ],
   "source": [
    "y_pred = model_predict(X,W2,W3,b2,b3)\n",
    "y_pred"
   ]
  },
  {
   "cell_type": "code",
   "execution_count": 14,
   "id": "3cf604b7",
   "metadata": {},
   "outputs": [
    {
     "data": {
      "image/png": "[encoded data removed]",
      "text/plain": [
       "<Figure size 432x288 with 1 Axes>"
      ]
     },
     "metadata": {
      "needs_background": "light"
     },
     "output_type": "display_data"
    }
   ],
   "source": [
    "plt.figure()\n",
    "plt.plot(X[0],y_pred[0], '*', label= \"Prediction\")\n",
    "plt.plot(X[0],y[0],'+', label=\"Verité\" )\n",
    "plt.title('Vérité et Prédiction')\n",
    "plt.show()"
   ]
  },
  {
   "cell_type": "code",
   "execution_count": 15,
   "id": "17583dda",
   "metadata": {},
   "outputs": [
    {
     "data": {
      "image/png": "[encoded data removed]",
      "text/plain": [
       "<Figure size 432x288 with 1 Axes>"
      ]
     },
     "metadata": {
      "needs_background": "light"
     },
     "output_type": "display_data"
    }
   ],
   "source": [
    "plt.figure()\n",
    "plt.plot(Cost)\n",
    "plt.title('Valeur de la fonction coût')\n",
    "plt.show()"
   ]
  }
 ],
 "metadata": {
  "kernelspec": {
   "display_name": "Python 3 (ipykernel)",
   "language": "python",
   "name": "python3"
  },
  "language_info": {
   "codemirror_mode": {
    "name": "ipython",
    "version": 3
   },
   "file_extension": ".py",
   "mimetype": "text/x-python",
   "name": "python",
   "nbconvert_exporter": "python",
   "pygments_lexer": "ipython3",
   "version": "3.9.7"
  }
 },
 "nbformat": 4,
 "nbformat_minor": 5
}
