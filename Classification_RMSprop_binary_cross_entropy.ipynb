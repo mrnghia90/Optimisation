{
 "cells": [
  {
   "cell_type": "markdown",
   "id": "472bad8f",
   "metadata": {},
   "source": [
    "# Root mean square propagation (RMSprop)"
   ]
  },
  {
   "cell_type": "code",
   "execution_count": 1,
   "id": "6a216e9b",
   "metadata": {},
   "outputs": [],
   "source": [
    "%reset -f\n",
    "\n",
    "import numpy as np\n",
    "import matplotlib.pyplot as plt\n",
    "from sklearn.utils import shuffle"
   ]
  },
  {
   "cell_type": "code",
   "execution_count": 2,
   "id": "fe1ee62c",
   "metadata": {},
   "outputs": [],
   "source": [
    "# ETAPE 1\n",
    "\n",
    "# définition des parametres : pour tester les fonctions, on prendra n2 = 5\n",
    "\n",
    "# n = nombre de données d'apprentissage \n",
    "# n2 = nombres de neurones dans la 2eme couche\n",
    "# eta = pas dans la méthode du gradient à pas fixe (= learning rate)\n",
    "# Niter = nombre d'itérations dans la méthode du gradient à pas fixe\n",
    "\n",
    "n = 120\n",
    "n1 = n//2\n",
    "n2 = 15\n",
    "eta = 0.3 #learning rate\n",
    "\n",
    "Nepoch = 2500\n",
    "Nbatch = 12\n",
    "Batchsize = 10\n",
    "\n",
    "epsi = 10**(-8)"
   ]
  },
  {
   "cell_type": "code",
   "execution_count": 3,
   "id": "dd3dbe99",
   "metadata": {},
   "outputs": [],
   "source": [
    "# ETAPE 2\n",
    "\n",
    "# génération des données d'apprentissage\n",
    "\n",
    "U = (np.random.rand(n)).reshape(1,n)\n",
    "X = np.zeros(n).reshape(1,n)\n",
    "X[0][:n1] = np.sin(2*np.pi*U[0][:60])\n",
    "X[0][n1:] = np.exp(U[0][60:])-1\n",
    "\n",
    "y = np.zeros(n).reshape(1,n)\n",
    "y[0][:n1] = 1\n",
    "y[0][n1:] = 0"
   ]
  },
  {
   "cell_type": "code",
   "execution_count": 4,
   "id": "ad053f2f",
   "metadata": {},
   "outputs": [],
   "source": [
    "# ETAPE 3\n",
    "\n",
    "# Fonction d'activation\n",
    "def sigma(z):\n",
    "    return 1/(1+np.exp(-z))\n",
    "\n",
    "# Dérivée de la fonction d'activation\n",
    "def sigmaprime(z):\n",
    "    return np.exp(-z)/((1+np.exp(-z))**2)\n",
    "\n",
    "def relu(z):\n",
    "    return z * (z > 0)\n",
    "\n",
    "def reluprime(z):\n",
    "    return 1. * (z > 0)\n",
    "\n",
    "def softmax(z):\n",
    "    \n",
    "    u = 1.0/np.sum(np.exp(z), axis=0)\n",
    "    \n",
    "    return u*np.exp(z)"
   ]
  },
  {
   "cell_type": "code",
   "execution_count": 5,
   "id": "82ee0993",
   "metadata": {},
   "outputs": [],
   "source": [
    "# ETAPE 4\n",
    "\n",
    "# Initialisation matrices poids et vecteurs biais du réseau de neurones\n",
    "\n",
    "W2 = np.random.randn(n2,1)\n",
    "b2 = np.random.randn(n2,1)\n",
    "\n",
    "W3 = np.random.randn(1,n2)\n",
    "b3 = np.random.randn(1,1)"
   ]
  },
  {
   "cell_type": "code",
   "execution_count": 6,
   "id": "30591322",
   "metadata": {},
   "outputs": [],
   "source": [
    "# ETAPE 5\n",
    "\n",
    "# Calcul de dC/dW2, dC/dW3, dC/db2 et dC/db3 en utilisant\n",
    "# la méthode de backpropagation\n",
    "\n",
    "def compute_grad(x,y,W2,W3,b2,b3):\n",
    "    a1 = x\n",
    "    # Calculer et stocker\n",
    "    z2 = np.dot(W2,a1) + b2\n",
    "    a2 = sigma(z2)\n",
    "\n",
    "    z3 = np.dot(W3,a2) + b3\n",
    "    a3 = sigma(z3)\n",
    "\n",
    "    # Calcul\n",
    "    delta3 = (a3-y)/(a3*(1-a3))*sigmaprime(z3)\n",
    "    # Calcul\n",
    "    delta2 = np.dot(W3.T,delta3)*sigmaprime(z2)\n",
    "    \n",
    "    dCdW2 = np.dot(delta2,a1.T)\n",
    "    dCdW3 = np.dot(delta3,a2.T)\n",
    "    dCdb2 = delta2\n",
    "    dCdb3 = delta3\n",
    "\n",
    "    return dCdW2, dCdW3, dCdb2, dCdb3"
   ]
  },
  {
   "cell_type": "code",
   "execution_count": 7,
   "id": "1610d988",
   "metadata": {},
   "outputs": [],
   "source": [
    "# ETAPE 6\n",
    "\n",
    "# Définition de la fonction coût\n",
    "def cost(y,y_pred):\n",
    "    return (-1*n)*np.sum(y*np.log(y_pred) + (1-y)*np.log(1-y_pred))"
   ]
  },
  {
   "cell_type": "code",
   "execution_count": 8,
   "id": "c3ad4d13",
   "metadata": {},
   "outputs": [],
   "source": [
    "# ETAPE 7\n",
    "\n",
    "# Prediction du modèle\n",
    "\n",
    "def model_predict(X,W2,W3,b2,b3):\n",
    "    a1 = X\n",
    "    # Calculer et stocker\n",
    "    z2 = W2@a1 + b2\n",
    "    a2 = sigma(z2)\n",
    "\n",
    "    z3 = W3@a2 + b3\n",
    "    a3 = sigma(z3)\n",
    "     \n",
    "    return a3"
   ]
  },
  {
   "cell_type": "code",
   "execution_count": 9,
   "id": "909b56e4",
   "metadata": {},
   "outputs": [],
   "source": [
    "Cost = np.zeros(Nepoch)\n",
    "Acc = np.zeros(Nepoch)\n",
    "beta = 0.9\n",
    "\n",
    "\n",
    "dCdW2_avg = np.zeros(W2.shape)\n",
    "dCdW3_avg = np.zeros(W3.shape)\n",
    "dCdb2_avg = np.zeros(b2.shape)\n",
    "dCdb3_avg = np.zeros(b3.shape)\n",
    "\n",
    "HkW2=np.zeros(W2.shape)\n",
    "HkW3=np.zeros(W3.shape)\n",
    "Hkb2=np.zeros(b2.shape)\n",
    "Hkb3=np.zeros(b3.shape)\n",
    "\n",
    "for k in range(Nepoch):\n",
    "    \n",
    "    # Votre code ici\n",
    "    \n",
    "    # Mélanger des données\n",
    "    (X,y) = shuffle(X.T,y.T)\n",
    "    X = X.T\n",
    "    y = y.T\n",
    "    y_pred = model_predict(X,W2,W3,b2,b3)\n",
    "    Cost[k] = cost(y,y_pred)\n",
    "    Acc[k] = 1-0.5*np.sum(np.abs(np.round(y_pred)-y))/n\n",
    "    for j in range(Nbatch):\n",
    "        dCdW2 = np.zeros(W2.shape)\n",
    "        dCdW3 = np.zeros(W3.shape)\n",
    "        dCdb2 = np.zeros(b2.shape)\n",
    "        dCdb3 = np.zeros(b3.shape)\n",
    "        for i in range(Batchsize):\n",
    "            u = j*Batchsize\n",
    "\n",
    "            xi = X[0][u+i]\n",
    "            yi = y[0][u+i]\n",
    "            \n",
    "            gW2, gW3, gb2, gb3 = compute_grad(xi,yi,W2,W3,b2,b3)\n",
    "            \n",
    "            dCdW2 += gW2\n",
    "            dCdW3 += gW3\n",
    "            dCdb2 += gb2\n",
    "            dCdb3 += gb3\n",
    "            \n",
    "        dCdW2_avg = beta*dCdW2_avg + (1-beta)*dCdW2*dCdW2\n",
    "        dCdW3_avg = beta*dCdW3_avg + (1-beta)*dCdW3*dCdW3\n",
    "        dCdb2_avg = beta*dCdb2_avg + (1-beta)*dCdb2*dCdb2\n",
    "        dCdb3_avg = beta*dCdb3_avg + (1-beta)*dCdb3*dCdb3\n",
    "            \n",
    "        HkW2=1/(np.sqrt(dCdW2_avg+epsi))\n",
    "        HkW3=1/(np.sqrt(dCdW3_avg+epsi))\n",
    "        Hkb2=1/(np.sqrt(dCdb2_avg+epsi))\n",
    "        Hkb3=1/(np.sqrt(dCdb3_avg+epsi))\n",
    "        \n",
    "        # Actualisation des paramètres    \n",
    "        W2 = W2 - (eta/Batchsize)*HkW2*dCdW2\n",
    "        W3 = W3 - (eta/Batchsize)*HkW3*dCdW3\n",
    "        b2 = b2 - (eta/Batchsize)*Hkb2*dCdb2\n",
    "        b3 = b3 - (eta/Batchsize)*Hkb3*dCdb3\n"
   ]
  },
  {
   "cell_type": "code",
   "execution_count": 10,
   "id": "826173a4",
   "metadata": {},
   "outputs": [
    {
     "data": {
      "text/plain": [
       "array([[3.05296965e-01, 2.90982803e-01, 9.99999968e-01, 5.51960388e-05,\n",
       "        5.93145582e-04, 3.53599320e-01, 2.85034492e-01, 1.31572194e-02,\n",
       "        3.24795232e-01, 4.91275625e-01, 5.41617749e-01, 2.89824616e-01,\n",
       "        5.44051893e-01, 3.71752023e-01, 9.99999974e-01, 2.85497267e-01,\n",
       "        6.60380963e-05, 2.82506323e-01, 3.21851141e-01, 3.00047466e-01,\n",
       "        2.99213014e-01, 9.99999976e-01, 9.99999973e-01, 3.00721502e-01,\n",
       "        1.04126760e-05, 3.31065437e-01, 1.49916622e-01, 3.58399698e-01,\n",
       "        3.56192645e-01, 3.71489886e-01, 4.61479342e-02, 1.90858307e-02,\n",
       "        4.85015104e-01, 9.99999872e-01, 9.99999968e-01, 6.91569076e-04,\n",
       "        5.17685535e-01, 3.01670705e-01, 9.99999947e-01, 6.02822375e-06,\n",
       "        4.62134595e-06, 2.87368555e-01, 4.52982453e-01, 1.95329697e-01,\n",
       "        3.38969286e-01, 9.99999979e-01, 3.66600273e-01, 5.17405985e-01,\n",
       "        5.57065883e-01, 5.32446282e-01, 3.06004501e-01, 2.50156232e-01,\n",
       "        2.87245084e-01, 9.99999978e-01, 8.39838332e-06, 7.81907858e-03,\n",
       "        9.99999978e-01, 1.18419532e-05, 3.31577829e-01, 9.99999968e-01,\n",
       "        2.62815726e-01, 9.99999976e-01, 6.76896573e-03, 9.99999962e-01,\n",
       "        9.99999897e-01, 5.18703694e-06, 5.43163524e-01, 9.99999970e-01,\n",
       "        4.65751491e-01, 9.99959386e-01, 5.55829588e-01, 2.68388077e-04,\n",
       "        6.47112147e-03, 3.96968676e-01, 3.88361097e-01, 2.82620341e-01,\n",
       "        5.39618468e-01, 3.52801577e-01, 2.50194033e-01, 3.32022508e-01,\n",
       "        3.26945435e-01, 9.99999980e-01, 4.00854654e-01, 2.94378016e-01,\n",
       "        9.99999971e-01, 9.99999966e-01, 5.41201044e-01, 2.83054449e-01,\n",
       "        8.96906183e-06, 9.99999977e-01, 3.20032766e-01, 1.42320488e-01,\n",
       "        3.07885242e-01, 3.63716566e-01, 4.40772416e-01, 9.99999974e-01,\n",
       "        3.51522276e-01, 5.56973350e-01, 9.99999955e-01, 2.83900208e-01,\n",
       "        3.60682716e-01, 2.73622778e-01, 3.25482812e-01, 2.82058965e-01,\n",
       "        3.06389216e-01, 2.87734444e-01, 9.99999966e-01, 5.39028322e-01,\n",
       "        3.28799732e-01, 9.99999959e-01, 5.57039484e-01, 9.99999988e-01,\n",
       "        9.99999961e-01, 9.99999977e-01, 1.22194650e-01, 3.12534729e-01,\n",
       "        9.99999965e-01, 3.17979810e-01, 3.30620665e-01, 3.10815925e-01]])"
      ]
     },
     "execution_count": 10,
     "metadata": {},
     "output_type": "execute_result"
    }
   ],
   "source": [
    "y_pred = model_predict(X,W2,W3,b2,b3)\n",
    "y_pred"
   ]
  },
  {
   "cell_type": "code",
   "execution_count": 11,
   "id": "8a981142",
   "metadata": {},
   "outputs": [],
   "source": [
    "def classification(y_true,y_pred):\n",
    "    return 1-0.5*np.sum(np.abs(np.round(y_pred)-y))/n\n"
   ]
  },
  {
   "cell_type": "code",
   "execution_count": 12,
   "id": "cc590ca6",
   "metadata": {},
   "outputs": [],
   "source": [
    "# génération des données d'apprentissage\n",
    "\n",
    "U = (np.random.rand(n)).reshape(1,n)\n",
    "X = np.zeros(n).reshape(1,n)\n",
    "X[0][:n1] = np.sin(2*np.pi*U[0][:60])\n",
    "X[0][n1:] = np.exp(U[0][60:])-1\n",
    "\n",
    "y = np.zeros(n).reshape(1,n)\n",
    "y[0][:n1] = 1\n",
    "y[0][n1:] = 0"
   ]
  },
  {
   "cell_type": "code",
   "execution_count": 13,
   "id": "af66f225",
   "metadata": {},
   "outputs": [
    {
     "name": "stdout",
     "output_type": "stream",
     "text": [
      "Niveau de précision :  72.08333333333333\n"
     ]
    }
   ],
   "source": [
    "print('Niveau de précision : ',classification(y,y_pred)*100)"
   ]
  },
  {
   "cell_type": "code",
   "execution_count": 14,
   "id": "34a6e689",
   "metadata": {},
   "outputs": [
    {
     "data": {
      "image/png": "[encoded data removed]",
      "text/plain": [
       "<Figure size 432x288 with 1 Axes>"
      ]
     },
     "metadata": {
      "needs_background": "light"
     },
     "output_type": "display_data"
    }
   ],
   "source": [
    "plt.figure()\n",
    "plt.plot(Cost)\n",
    "plt.title('Fonction coût')\n",
    "plt.show()"
   ]
  },
  {
   "cell_type": "code",
   "execution_count": 15,
   "id": "aa6d9072",
   "metadata": {},
   "outputs": [
    {
     "data": {
      "image/png": "[encoded data removed]",
      "text/plain": [
       "<Figure size 432x288 with 1 Axes>"
      ]
     },
     "metadata": {
      "needs_background": "light"
     },
     "output_type": "display_data"
    }
   ],
   "source": [
    "plt.figure()\n",
    "plt.plot(Acc)\n",
    "plt.title('Précision')\n",
    "plt.show()"
   ]
  }
 ],
 "metadata": {
  "kernelspec": {
   "display_name": "Python 3 (ipykernel)",
   "language": "python",
   "name": "python3"
  },
  "language_info": {
   "codemirror_mode": {
    "name": "ipython",
    "version": 3
   },
   "file_extension": ".py",
   "mimetype": "text/x-python",
   "name": "python",
   "nbconvert_exporter": "python",
   "pygments_lexer": "ipython3",
   "version": "3.9.7"
  }
 },
 "nbformat": 4,
 "nbformat_minor": 5
}
