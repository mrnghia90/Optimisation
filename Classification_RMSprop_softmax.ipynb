{
 "cells": [
  {
   "cell_type": "markdown",
   "id": "472bad8f",
   "metadata": {},
   "source": [
    "# Root mean square propagation (RMSprop) SoftMax"
   ]
  },
  {
   "cell_type": "code",
   "execution_count": 1,
   "id": "6a216e9b",
   "metadata": {},
   "outputs": [],
   "source": [
    "%reset -f\n",
    "\n",
    "import numpy as np\n",
    "import matplotlib.pyplot as plt\n",
    "from sklearn.utils import shuffle"
   ]
  },
  {
   "cell_type": "code",
   "execution_count": 2,
   "id": "fe1ee62c",
   "metadata": {},
   "outputs": [],
   "source": [
    "# ETAPE 1\n",
    "\n",
    "# définition des parametres : pour tester les fonctions, on prendra n2 = 5\n",
    "\n",
    "# n = nombre de données d'apprentissage \n",
    "# n2 = nombres de neurones dans la 2eme couche\n",
    "# eta = pas dans la méthode du gradient à pas fixe (= learning rate)\n",
    "# Niter = nombre d'itérations dans la méthode du gradient à pas fixe\n",
    "\n",
    "n = 120\n",
    "n2 = 15\n",
    "eta = 0.3 #learning rate\n",
    "\n",
    "Nepoch = 2500\n",
    "Nbatch = 12\n",
    "Batchsize = 10\n",
    "\n",
    "epsi = 10**(-8)"
   ]
  },
  {
   "cell_type": "code",
   "execution_count": 3,
   "id": "dd3dbe99",
   "metadata": {},
   "outputs": [],
   "source": [
    "# ETAPE 2\n",
    "\n",
    "# génération des données d'apprentissage\n",
    "\n",
    "U = (np.random.rand(n)).reshape(1,n)\n",
    "X = np.zeros(n).reshape(1,n)\n",
    "X[0][:60] = np.sin(2*np.pi*U[0][:60])\n",
    "X[0][60:] = np.exp(U[0][60:])-1\n",
    "\n",
    "y = np.zeros((2,n)).reshape(2,n)\n",
    "y[0][:60] = 1\n",
    "y[0][60:] = 0"
   ]
  },
  {
   "cell_type": "code",
   "execution_count": 4,
   "id": "b3ae124e",
   "metadata": {},
   "outputs": [
    {
     "data": {
      "text/plain": [
       "(2, 120)"
      ]
     },
     "execution_count": 4,
     "metadata": {},
     "output_type": "execute_result"
    }
   ],
   "source": [
    "np.shape(y)"
   ]
  },
  {
   "cell_type": "code",
   "execution_count": 5,
   "id": "ad053f2f",
   "metadata": {},
   "outputs": [],
   "source": [
    "# ETAPE 3\n",
    "\n",
    "# Fonction d'activation\n",
    "def sigma(z):\n",
    "    return 1/(1+np.exp(-z))\n",
    "\n",
    "# Dérivée de la fonction d'activation\n",
    "def sigmaprime(z):\n",
    "    return np.exp(-z)/((1+np.exp(-z))**2)"
   ]
  },
  {
   "cell_type": "code",
   "execution_count": 6,
   "id": "82ee0993",
   "metadata": {},
   "outputs": [],
   "source": [
    "# ETAPE 4\n",
    "\n",
    "# Initialisation matrices poids et vecteurs biais du réseau de neurones\n",
    "\n",
    "W2 = np.random.randn(n2,1)\n",
    "b2 = np.random.randn(n2,1)\n",
    "\n",
    "W3 = np.random.randn(2,n2)\n",
    "b3 = np.random.randn(2,1)"
   ]
  },
  {
   "cell_type": "code",
   "execution_count": 7,
   "id": "7e61edae",
   "metadata": {},
   "outputs": [
    {
     "name": "stdout",
     "output_type": "stream",
     "text": [
      "(15, 1)\n",
      "(15, 1)\n",
      "(2, 15)\n",
      "(2, 1)\n"
     ]
    }
   ],
   "source": [
    "print(np.shape(W2))\n",
    "print(np.shape(b2))\n",
    "print(np.shape(W3))\n",
    "print(np.shape(b3))"
   ]
  },
  {
   "cell_type": "code",
   "execution_count": 8,
   "id": "ac4e6575",
   "metadata": {},
   "outputs": [],
   "source": [
    "# ETAPE 4.1\n",
    "def softmax(z):\n",
    "    \n",
    "    u = 1.0/np.sum(np.exp(z), axis=0)\n",
    "    \n",
    "    return u*np.exp(z)"
   ]
  },
  {
   "cell_type": "code",
   "execution_count": 9,
   "id": "30591322",
   "metadata": {},
   "outputs": [],
   "source": [
    "# ETAPE 5\n",
    "\n",
    "# Calcul de dC/dW2, dC/dW3, dC/db2 et dC/db3 en utilisant\n",
    "# la méthode de backpropagation\n",
    "\n",
    "def backpropagation(x,y,W2,W3,b2,b3):\n",
    "    a1 = x\n",
    "    # Calculer et stocker\n",
    "    z2 = np.dot(W2,a1) + b2\n",
    "    a2 = sigma(z2)\n",
    "\n",
    "    z3 = np.dot(W3,a2) + b3\n",
    "    a3 = softmax(z3)\n",
    "\n",
    "    # Calcul\n",
    "    delta3 = a3-y\n",
    "    # Calcul\n",
    "    delta2 = np.dot(W3.T,delta3)*sigmaprime(z2)\n",
    "    \n",
    "    dCdW2 = np.dot(delta2,a1.T)\n",
    "    dCdW3 = np.dot(delta3,a2.T)\n",
    "    dCdb2 = delta2\n",
    "    dCdb3 = delta3\n",
    "\n",
    "    return dCdW2, dCdW3, dCdb2, dCdb3"
   ]
  },
  {
   "cell_type": "code",
   "execution_count": 10,
   "id": "1610d988",
   "metadata": {},
   "outputs": [],
   "source": [
    "# ETAPE 6\n",
    "\n",
    "# Définition de la fonction coût\n",
    "def cost(y,y_pred):\n",
    "    xx = -np.sum(y*np.log(y_pred), axis=0)\n",
    "    return np.sum(xx)/n"
   ]
  },
  {
   "cell_type": "code",
   "execution_count": 11,
   "id": "c3ad4d13",
   "metadata": {},
   "outputs": [],
   "source": [
    "# ETAPE 7\n",
    "\n",
    "# Prediction du modèle\n",
    "\n",
    "def model_predict(X,W2,W3,b2,b3):\n",
    "    a1 = X\n",
    "    # Calculer et stocker\n",
    "    z2 = W2@a1 + b2\n",
    "    a2 = sigma(z2)\n",
    "\n",
    "    z3 = W3@a2 + b3\n",
    "    a3 = softmax(z3)\n",
    "     \n",
    "    return a3"
   ]
  },
  {
   "cell_type": "code",
   "execution_count": 12,
   "id": "909b56e4",
   "metadata": {
    "scrolled": true
   },
   "outputs": [
    {
     "name": "stderr",
     "output_type": "stream",
     "text": [
      "C:\\Users\\tnngo1\\AppData\\Local\\Temp/ipykernel_13388/2352360198.py:4: RuntimeWarning: overflow encountered in true_divide\n",
      "  u = 1.0/np.sum(np.exp(z), axis=0)\n",
      "C:\\Users\\tnngo1\\AppData\\Local\\Temp/ipykernel_13388/1144825362.py:55: RuntimeWarning: invalid value encountered in multiply\n",
      "  W2 = W2 - (eta/Batchsize)*HkW2*dCdW2\n",
      "C:\\Users\\tnngo1\\AppData\\Local\\Temp/ipykernel_13388/1144825362.py:56: RuntimeWarning: invalid value encountered in multiply\n",
      "  W3 = W3 - (eta/Batchsize)*HkW3*dCdW3\n",
      "C:\\Users\\tnngo1\\AppData\\Local\\Temp/ipykernel_13388/1144825362.py:57: RuntimeWarning: invalid value encountered in multiply\n",
      "  b2 = b2 - (eta/Batchsize)*Hkb2*dCdb2\n",
      "C:\\Users\\tnngo1\\AppData\\Local\\Temp/ipykernel_13388/1144825362.py:58: RuntimeWarning: invalid value encountered in multiply\n",
      "  b3 = b3 - (eta/Batchsize)*Hkb3*dCdb3\n"
     ]
    }
   ],
   "source": [
    "Cost = np.zeros(Nepoch)\n",
    "beta = 0.9\n",
    "\n",
    "\n",
    "dCdW2_avg = np.zeros(W2.shape)\n",
    "dCdW3_avg = np.zeros(W3.shape)\n",
    "dCdb2_avg = np.zeros(b2.shape)\n",
    "dCdb3_avg = np.zeros(b3.shape)\n",
    "\n",
    "HkW2=np.zeros(W2.shape)\n",
    "HkW3=np.zeros(W3.shape)\n",
    "Hkb2=np.zeros(b2.shape)\n",
    "Hkb3=np.zeros(b3.shape)\n",
    "\n",
    "for k in range(Nepoch):\n",
    "    \n",
    "    # Votre code ici\n",
    "    \n",
    "    # Mélanger des données\n",
    "    (X,y) = shuffle(X.T,y.T)\n",
    "    X = X.T\n",
    "    y = y.T\n",
    "    y_pred = model_predict(X,W2,W3,b2,b3)\n",
    "    Cost[k] = cost(y,y_pred)\n",
    "\n",
    "    for j in range(Nbatch):\n",
    "        dCdW2 = np.zeros(W2.shape)\n",
    "        dCdW3 = np.zeros(W3.shape)\n",
    "        dCdb2 = np.zeros(b2.shape)\n",
    "        dCdb3 = np.zeros(b3.shape)\n",
    "        for i in range(Batchsize):\n",
    "            u = j*Batchsize\n",
    "\n",
    "            xi = X[0][u+i]\n",
    "            yi = y[0][u+i]\n",
    "            \n",
    "            gW2, gW3, gb2, gb3 = backpropagation(xi,yi,W2,W3,b2,b3)\n",
    "            \n",
    "            dCdW2 += gW2\n",
    "            dCdW3 += gW3\n",
    "            dCdb2 += gb2\n",
    "            dCdb3 += gb3\n",
    "            \n",
    "        dCdW2_avg = beta*dCdW2_avg + (1-beta)*dCdW2*dCdW2\n",
    "        dCdW3_avg = beta*dCdW3_avg + (1-beta)*dCdW3*dCdW3\n",
    "        dCdb2_avg = beta*dCdb2_avg + (1-beta)*dCdb2*dCdb2\n",
    "        dCdb3_avg = beta*dCdb3_avg + (1-beta)*dCdb3*dCdb3\n",
    "            \n",
    "        HkW2=1/(np.sqrt(dCdW2_avg+epsi))\n",
    "        HkW3=1/(np.sqrt(dCdW3_avg+epsi))\n",
    "        Hkb2=1/(np.sqrt(dCdb2_avg+epsi))\n",
    "        Hkb3=1/(np.sqrt(dCdb3_avg+epsi))\n",
    "        \n",
    "        # Actualisation des paramètres    \n",
    "        W2 = W2 - (eta/Batchsize)*HkW2*dCdW2\n",
    "        W3 = W3 - (eta/Batchsize)*HkW3*dCdW3\n",
    "        b2 = b2 - (eta/Batchsize)*Hkb2*dCdb2\n",
    "        b3 = b3 - (eta/Batchsize)*Hkb3*dCdb3\n"
   ]
  },
  {
   "cell_type": "code",
   "execution_count": 13,
   "id": "826173a4",
   "metadata": {},
   "outputs": [
    {
     "data": {
      "text/plain": [
       "array([[nan, nan, nan, nan, nan, nan, nan, nan, nan, nan, nan, nan, nan,\n",
       "        nan, nan, nan, nan, nan, nan, nan, nan, nan, nan, nan, nan, nan,\n",
       "        nan, nan, nan, nan, nan, nan, nan, nan, nan, nan, nan, nan, nan,\n",
       "        nan, nan, nan, nan, nan, nan, nan, nan, nan, nan, nan, nan, nan,\n",
       "        nan, nan, nan, nan, nan, nan, nan, nan, nan, nan, nan, nan, nan,\n",
       "        nan, nan, nan, nan, nan, nan, nan, nan, nan, nan, nan, nan, nan,\n",
       "        nan, nan, nan, nan, nan, nan, nan, nan, nan, nan, nan, nan, nan,\n",
       "        nan, nan, nan, nan, nan, nan, nan, nan, nan, nan, nan, nan, nan,\n",
       "        nan, nan, nan, nan, nan, nan, nan, nan, nan, nan, nan, nan, nan,\n",
       "        nan, nan, nan],\n",
       "       [nan, nan, nan, nan, nan, nan, nan, nan, nan, nan, nan, nan, nan,\n",
       "        nan, nan, nan, nan, nan, nan, nan, nan, nan, nan, nan, nan, nan,\n",
       "        nan, nan, nan, nan, nan, nan, nan, nan, nan, nan, nan, nan, nan,\n",
       "        nan, nan, nan, nan, nan, nan, nan, nan, nan, nan, nan, nan, nan,\n",
       "        nan, nan, nan, nan, nan, nan, nan, nan, nan, nan, nan, nan, nan,\n",
       "        nan, nan, nan, nan, nan, nan, nan, nan, nan, nan, nan, nan, nan,\n",
       "        nan, nan, nan, nan, nan, nan, nan, nan, nan, nan, nan, nan, nan,\n",
       "        nan, nan, nan, nan, nan, nan, nan, nan, nan, nan, nan, nan, nan,\n",
       "        nan, nan, nan, nan, nan, nan, nan, nan, nan, nan, nan, nan, nan,\n",
       "        nan, nan, nan]])"
      ]
     },
     "execution_count": 13,
     "metadata": {},
     "output_type": "execute_result"
    }
   ],
   "source": [
    "y_pred = model_predict(X,W2,W3,b2,b3)\n",
    "y_pred"
   ]
  },
  {
   "cell_type": "code",
   "execution_count": 14,
   "id": "8a981142",
   "metadata": {},
   "outputs": [],
   "source": [
    "def classification(y_true,y_pred):\n",
    "    y_pred[:][0] = np.round(y_pred[:][0])\n",
    "    C = (np.abs(y_true[:][0]-y_pred[:][0])).sum()\n",
    "    return 1 - ((C)/n)\n"
   ]
  },
  {
   "cell_type": "code",
   "execution_count": 15,
   "id": "2e163038",
   "metadata": {},
   "outputs": [],
   "source": [
    "# génération des données de la validation\n",
    "\n",
    "U = (np.random.rand(n)).reshape(1,n)\n",
    "X = np.zeros(n).reshape(1,n)\n",
    "X[0][:60] = np.sin(2*np.pi*U[0][:60])\n",
    "X[0][60:] = np.exp(U[0][60:])-1\n",
    "\n",
    "y = np.zeros((2,n)).reshape(2,n)\n",
    "y[0][:60] = 1\n",
    "y[0][60:] = 0"
   ]
  },
  {
   "cell_type": "code",
   "execution_count": 16,
   "id": "e0a32337",
   "metadata": {},
   "outputs": [
    {
     "data": {
      "text/plain": [
       "nan"
      ]
     },
     "execution_count": 16,
     "metadata": {},
     "output_type": "execute_result"
    }
   ],
   "source": [
    "classification(y,y_pred)"
   ]
  },
  {
   "cell_type": "code",
   "execution_count": 17,
   "id": "49400984",
   "metadata": {},
   "outputs": [
    {
     "data": {
      "text/plain": [
       "[<matplotlib.lines.Line2D at 0x21ca13b9be0>]"
      ]
     },
     "execution_count": 17,
     "metadata": {},
     "output_type": "execute_result"
    },
    {
     "data": {
      "image/png": "[encoded data removed]",
      "text/plain": [
       "<Figure size 432x288 with 1 Axes>"
      ]
     },
     "metadata": {
      "needs_background": "light"
     },
     "output_type": "display_data"
    }
   ],
   "source": [
    "plt.plot(Cost)"
   ]
  }
 ],
 "metadata": {
  "kernelspec": {
   "display_name": "Python 3 (ipykernel)",
   "language": "python",
   "name": "python3"
  },
  "language_info": {
   "codemirror_mode": {
    "name": "ipython",
    "version": 3
   },
   "file_extension": ".py",
   "mimetype": "text/x-python",
   "name": "python",
   "nbconvert_exporter": "python",
   "pygments_lexer": "ipython3",
   "version": "3.9.7"
  }
 },
 "nbformat": 4,
 "nbformat_minor": 5
}
