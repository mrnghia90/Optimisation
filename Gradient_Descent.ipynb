{
 "cells": [
  {
   "cell_type": "markdown",
   "id": "6098d6e5",
   "metadata": {},
   "source": [
    "# Méthode Decends de gradient"
   ]
  },
  {
   "cell_type": "code",
   "execution_count": 1,
   "id": "c0c93932",
   "metadata": {},
   "outputs": [],
   "source": [
    "%reset -f\n",
    "\n",
    "import numpy as np\n",
    "import matplotlib.pyplot as plt\n",
    "from sklearn.utils import shuffle"
   ]
  },
  {
   "cell_type": "code",
   "execution_count": 2,
   "id": "dcddcd30",
   "metadata": {},
   "outputs": [],
   "source": [
    "# ETAPE 1\n",
    "\n",
    "# définition des parametres : pour tester les fonctions, on prendra n2 = 5\n",
    "\n",
    "# n = nombre de données d'apprentissage \n",
    "# n2 = nombres de neurones dans la 2eme couche\n",
    "# eta = pas dans la méthode du gradient à pas fixe (= learning rate)\n",
    "# Niter = nombre d'itérations dans la méthode du gradient à pas fixe\n",
    "\n",
    "n = 100\n",
    "n2 = 5\n",
    "eta = 0.3 #learning rate\n",
    "Niter = 8000\n",
    "Nepoch = 6000"
   ]
  },
  {
   "cell_type": "code",
   "execution_count": 3,
   "id": "133e0a94",
   "metadata": {},
   "outputs": [],
   "source": [
    "# ETAPE 2\n",
    "\n",
    "# génération des données d'apprentissage\n",
    "\n",
    "X = np.linspace(0,1,n).reshape(1,n)\n",
    "y = np.sin(2*np.pi*X)"
   ]
  },
  {
   "cell_type": "code",
   "execution_count": 4,
   "id": "9438a9d3",
   "metadata": {},
   "outputs": [
    {
     "data": {
      "text/plain": [
       "(1, 100)"
      ]
     },
     "execution_count": 4,
     "metadata": {},
     "output_type": "execute_result"
    }
   ],
   "source": [
    "np.shape(X)\n",
    "np.shape(y)"
   ]
  },
  {
   "cell_type": "code",
   "execution_count": 5,
   "id": "796bbc31",
   "metadata": {},
   "outputs": [],
   "source": [
    "# ETAPE 3\n",
    "\n",
    "# Fonction d'activation\n",
    "def sigma(z):\n",
    "    return 1/(1+np.exp(-z))\n",
    "\n",
    "# Dérivée de la fonction d'activation\n",
    "def sigmaprime(z):\n",
    "    return np.exp(-z)/((1+np.exp(-z))**2)"
   ]
  },
  {
   "cell_type": "code",
   "execution_count": 6,
   "id": "40397e5c",
   "metadata": {},
   "outputs": [],
   "source": [
    "# ETAPE 4\n",
    "\n",
    "# Initialisation matrices poids et vecteurs biais du réseau de neurones\n",
    "\n",
    "W2 = np.random.randn(n2,1)\n",
    "b2 = np.random.randn(n2,1)\n",
    "\n",
    "W3 = np.random.randn(1,n2)\n",
    "b3 = np.random.randn(1)\n"
   ]
  },
  {
   "cell_type": "code",
   "execution_count": 7,
   "id": "6ed9cd3a",
   "metadata": {},
   "outputs": [],
   "source": [
    "# ETAPE 5\n",
    "\n",
    "# Calcul de dC/dW2, dC/dW3, dC/db2 et dC/db3 en utilisant\n",
    "# la méthode de backpropagation\n",
    "\n",
    "def compute_grad(x,y,W2,W3,b2,b3):\n",
    "    a1 = x\n",
    "    # Calculer et stocker\n",
    "    z2 = np.dot(W2,a1) + b2\n",
    "    a2 = sigma(z2)\n",
    "\n",
    "    z3 = np.dot(W3,a2) + b3\n",
    "    a3 = z3\n",
    "\n",
    "    #C = np.mean((a3 - y)**2)*0.5\n",
    "    # Calcul\n",
    "    delta3 = (a3-y)\n",
    "    # Calcul\n",
    "    delta2 = np.dot(W3.T,delta3)*sigmaprime(z2)\n",
    "    \n",
    "    dCdW2 = np.dot(delta2,a1.T)\n",
    "    #dCdW2 = dCdW2.T\n",
    "    dCdW3 = np.dot(delta3,a2.T)\n",
    "    #dCdW3 = dCdW2.T\n",
    "    dCdb2 = delta2\n",
    "    dCdb3 = delta3\n",
    "\n",
    "    return dCdW2, dCdW3, dCdb2, dCdb3"
   ]
  },
  {
   "cell_type": "code",
   "execution_count": 8,
   "id": "2d4f0327",
   "metadata": {},
   "outputs": [
    {
     "name": "stdout",
     "output_type": "stream",
     "text": [
      "dCdW2=\n",
      "[[0.09472382]\n",
      " [0.13767658]\n",
      " [0.18598269]\n",
      " [0.13201616]\n",
      " [0.04893513]]\n",
      "\n",
      "dCdW3=\n",
      "[[2.00282269 2.10390657 2.06540843 2.46139695 1.84208145]]\n",
      "\n",
      "dCdb2=\n",
      "[[0.31574606]\n",
      " [0.45892193]\n",
      " [0.6199423 ]\n",
      " [0.44005386]\n",
      " [0.1631171 ]]\n",
      "\n",
      "dCdb3=\n",
      "[[3.30567707]]\n"
     ]
    }
   ],
   "source": [
    "# Test de la fonction compute_grad:\n",
    "# Pour tester, on prendra les matrices suivantes:\n",
    "\n",
    "W2 = np.array([[0.1],[0.2],[0.7],[0.9],[0.1]])\n",
    "b2 = np.array([[0.4],[0.5],[0.3],[0.8],[0.2]])\n",
    "\n",
    "W3 = np.array([[0.4, 0.6, 0.8, 0.7, 0.2]])\n",
    "b3 = np.array([[2.5]])\n",
    "\n",
    "xi = np.array([[0.3]])\n",
    "yi = np.sin(2*np.pi*xi)\n",
    "\n",
    "dCdW2, dCdW3, dCdb2, dCdb3 = compute_grad(xi,yi,W2,W3,b2,b3)\n",
    "\n",
    "# Vous devez trouver les résultats suivants:\n",
    "print('dCdW2=')\n",
    "print(dCdW2)\n",
    "print('')\n",
    "print('dCdW3=')\n",
    "print(dCdW3)\n",
    "print('')\n",
    "print('dCdb2=')\n",
    "print(dCdb2)\n",
    "print('')\n",
    "print('dCdb3=')\n",
    "print(dCdb3)"
   ]
  },
  {
   "cell_type": "code",
   "execution_count": 9,
   "id": "05cc5753",
   "metadata": {},
   "outputs": [],
   "source": [
    "# ETAPE 6\n",
    "\n",
    "# Définition de la fonction coût\n",
    "\n",
    "def cost(y,y_pred):\n",
    "    return (1/2*n)* np.linalg.norm(y-y_pred)"
   ]
  },
  {
   "cell_type": "code",
   "execution_count": 10,
   "id": "d7d9d9af",
   "metadata": {},
   "outputs": [],
   "source": [
    "# ETAPE 7\n",
    "\n",
    "# Prediction du modèle\n",
    "\n",
    "def model_predict(X,W2,W3,b2,b3):\n",
    "    a1 = X\n",
    "    # Calculer et stocker\n",
    "    z2 = W2@a1 + b2\n",
    "    a2 = sigma(z2)\n",
    "\n",
    "    z3 = W3@a2 + b3\n",
    "    a3 = z3\n",
    "    \n",
    "    return a3"
   ]
  },
  {
   "cell_type": "code",
   "execution_count": 11,
   "id": "231378e7",
   "metadata": {},
   "outputs": [
    {
     "name": "stdout",
     "output_type": "stream",
     "text": [
      "[[4.25673358]]\n"
     ]
    }
   ],
   "source": [
    "# Test de la fonction model_predict\n",
    "\n",
    "print(model_predict(xi,W2,W3,b2,b3))"
   ]
  },
  {
   "cell_type": "code",
   "execution_count": 12,
   "id": "7efa7861",
   "metadata": {},
   "outputs": [],
   "source": [
    "# ETAPE 8\n",
    "\n",
    "# Programme principal : phase d'apprentissage\n",
    "\n",
    "Cost = np.zeros(Niter)\n",
    "\n",
    "for j in range(Niter):\n",
    "    \n",
    "    # Votre code ici    \n",
    "    dCdW2 = np.zeros(W2.shape)\n",
    "    dCdW3 = np.zeros(W3.shape)\n",
    "    dCdb2 = np.zeros(b2.shape)\n",
    "    dCdb3 = np.zeros(b3.shape)\n",
    "    \n",
    "    y_pred = model_predict(X,W2,W3,b2,b3)\n",
    "    Cost[j] = cost(y,y_pred)\n",
    "    for i in range(n):\n",
    "        \n",
    "        # Votre code ici\n",
    "        xi = X[0][i]\n",
    "        yi = y[0][i]\n",
    "        gW2, gW3, gb2, gb3 = compute_grad(xi,yi,W2,W3,b2,b3)\n",
    "        dCdW2 += gW2\n",
    "        dCdW3 += gW3\n",
    "        dCdb2 += gb2\n",
    "        dCdb3 += gb3\n",
    "        \n",
    "    # Actualisation des paramètres    \n",
    "    W2 = W2 - (eta/n)*dCdW2\n",
    "    W3 = W3 - (eta/n)*dCdW3\n",
    "    b2 = b2 - (eta/n)*dCdb2\n",
    "    b3 = b3 - (eta/n)*dCdb3"
   ]
  },
  {
   "cell_type": "code",
   "execution_count": 13,
   "id": "d8c76afd",
   "metadata": {},
   "outputs": [
    {
     "data": {
      "text/plain": [
       "array([[ 0.22196804,  0.25646699,  0.29101187,  0.32556099,  0.36006844,\n",
       "         0.39448376,  0.42875155,  0.46281106,  0.49659579,  0.53003302,\n",
       "         0.56304334,  0.59554023,  0.6274295 ,  0.65860885,  0.68896739,\n",
       "         0.71838515,  0.7467327 ,  0.7738707 ,  0.7996497 ,  0.82390983,\n",
       "         0.8464808 ,  0.86718191,  0.88582243,  0.90220202,  0.91611164,\n",
       "         0.9273347 ,  0.93564857,  0.9408267 ,  0.94264106,  0.94086524,\n",
       "         0.93527811,  0.92566808,  0.91183788,  0.89361002,  0.87083261,\n",
       "         0.84338565,  0.81118743,  0.77420103,  0.73244049,  0.68597649,\n",
       "         0.63494111,  0.57953142,  0.5200115 ,  0.45671268,  0.39003169,\n",
       "         0.32042658,  0.24841048,  0.17454321,  0.09942097,  0.02366453,\n",
       "        -0.05209361, -0.12722261, -0.20110659, -0.27315727, -0.34282543,\n",
       "        -0.40961072, -0.47306952, -0.53282064, -0.5885488 , -0.64000588,\n",
       "        -0.68701026, -0.72944433, -0.76725056, -0.80042648, -0.82901885,\n",
       "        -0.85311738, -0.87284824, -0.88836766, -0.89985581, -0.90751099,\n",
       "        -0.91154445, -0.91217567, -0.90962827, -0.90412656, -0.89589262,\n",
       "        -0.88514388, -0.87209125, -0.85693771, -0.83987718, -0.82109382,\n",
       "        -0.80076159, -0.779044  , -0.75609409, -0.73205456, -0.70705801,\n",
       "        -0.68122727, -0.6546758 , -0.62750812, -0.59982032, -0.57170048,\n",
       "        -0.54322926, -0.51448029, -0.48552072, -0.45641165, -0.42720858,\n",
       "        -0.39796183, -0.36871695, -0.3395151 , -0.31039338, -0.28138519]])"
      ]
     },
     "execution_count": 13,
     "metadata": {},
     "output_type": "execute_result"
    }
   ],
   "source": [
    "y_pred = model_predict(X,W2,W3,b2,b3)\n",
    "y_pred"
   ]
  },
  {
   "cell_type": "code",
   "execution_count": 14,
   "id": "d1bd3f0d",
   "metadata": {},
   "outputs": [
    {
     "data": {
      "image/png": "[encoded data removed]",
      "text/plain": [
       "<Figure size 432x288 with 1 Axes>"
      ]
     },
     "metadata": {
      "needs_background": "light"
     },
     "output_type": "display_data"
    }
   ],
   "source": [
    "plt.figure()\n",
    "plt.plot(X[0],y_pred[0], '*', label= \"Prediction\")\n",
    "plt.plot(X[0],y[0], label=\"Verité\" )\n",
    "plt.title('Vérité et Prédiction')\n",
    "plt.show()"
   ]
  },
  {
   "cell_type": "code",
   "execution_count": 15,
   "id": "f3bcd7e0",
   "metadata": {},
   "outputs": [
    {
     "data": {
      "image/png": "[encoded data removed]",
      "text/plain": [
       "<Figure size 432x288 with 1 Axes>"
      ]
     },
     "metadata": {
      "needs_background": "light"
     },
     "output_type": "display_data"
    }
   ],
   "source": [
    "plt.figure()\n",
    "plt.plot(Cost)\n",
    "plt.title('Valeur de la nfonction coût')\n",
    "plt.show()"
   ]
  }
 ],
 "metadata": {
  "kernelspec": {
   "display_name": "Python 3 (ipykernel)",
   "language": "python",
   "name": "python3"
  },
  "language_info": {
   "codemirror_mode": {
    "name": "ipython",
    "version": 3
   },
   "file_extension": ".py",
   "mimetype": "text/x-python",
   "name": "python",
   "nbconvert_exporter": "python",
   "pygments_lexer": "ipython3",
   "version": "3.9.7"
  }
 },
 "nbformat": 4,
 "nbformat_minor": 5
}
