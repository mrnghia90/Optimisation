{
 "cells": [
  {
   "cell_type": "markdown",
   "id": "472bad8f",
   "metadata": {},
   "source": [
    "# Root mean square propagation (RMSprop)"
   ]
  },
  {
   "cell_type": "code",
   "execution_count": 1,
   "id": "6a216e9b",
   "metadata": {},
   "outputs": [],
   "source": [
    "%reset -f\n",
    "\n",
    "import numpy as np\n",
    "import matplotlib.pyplot as plt\n",
    "from sklearn.utils import shuffle"
   ]
  },
  {
   "cell_type": "code",
   "execution_count": 2,
   "id": "fe1ee62c",
   "metadata": {},
   "outputs": [],
   "source": [
    "# ETAPE 1\n",
    "\n",
    "# définition des parametres : pour tester les fonctions, on prendra n2 = 5\n",
    "\n",
    "# n = nombre de données d'apprentissage \n",
    "# n2 = nombres de neurones dans la 2eme couche\n",
    "# eta = pas dans la méthode du gradient à pas fixe (= learning rate)\n",
    "# Niter = nombre d'itérations dans la méthode du gradient à pas fixe\n",
    "\n",
    "n = 130\n",
    "n2 = 15\n",
    "eta = 0.3 #learning rate\n",
    "\n",
    "Nepoch = 2500\n",
    "Nbatch = 13\n",
    "Batchsize = 10\n",
    "\n",
    "epsi = 10**(-8)"
   ]
  },
  {
   "cell_type": "code",
   "execution_count": 3,
   "id": "dd3dbe99",
   "metadata": {},
   "outputs": [],
   "source": [
    "# ETAPE 2\n",
    "\n",
    "# génération des données d'apprentissage\n",
    "\n",
    "X = np.linspace(0,1,n).reshape(1,n)\n",
    "y = np.sin(2*np.pi*X)"
   ]
  },
  {
   "cell_type": "code",
   "execution_count": 4,
   "id": "ad053f2f",
   "metadata": {},
   "outputs": [],
   "source": [
    "# ETAPE 3\n",
    "\n",
    "# Fonction d'activation\n",
    "def sigma(z):\n",
    "    return 1/(1+np.exp(-z))\n",
    "\n",
    "# Dérivée de la fonction d'activation\n",
    "def sigmaprime(z):\n",
    "    return np.exp(-z)/((1+np.exp(-z))**2)\n",
    "\n",
    "def relu(z):\n",
    "    return z * (z > 0)\n",
    "\n",
    "def reluprime(z):\n",
    "    return 1. * (z > 0)"
   ]
  },
  {
   "cell_type": "code",
   "execution_count": 5,
   "id": "82ee0993",
   "metadata": {},
   "outputs": [],
   "source": [
    "# ETAPE 4\n",
    "\n",
    "# Initialisation matrices poids et vecteurs biais du réseau de neurones\n",
    "\n",
    "W2 = np.random.randn(n2,1)\n",
    "b2 = np.random.randn(n2,1)\n",
    "\n",
    "W3 = np.random.randn(1,n2)\n",
    "b3 = np.random.randn(1)"
   ]
  },
  {
   "cell_type": "code",
   "execution_count": 6,
   "id": "30591322",
   "metadata": {},
   "outputs": [],
   "source": [
    "# ETAPE 5\n",
    "\n",
    "# Calcul de dC/dW2, dC/dW3, dC/db2 et dC/db3 en utilisant\n",
    "# la méthode de backpropagation\n",
    "\n",
    "def backpropagation(x,y,W2,W3,b2,b3):\n",
    "    a1 = x\n",
    "    # Calculer et stocker\n",
    "    z2 = np.dot(W2,a1) + b2\n",
    "    a2 = relu(z2)\n",
    "\n",
    "    z3 = np.dot(W3,a2) + b3\n",
    "    a3 = z3\n",
    "\n",
    "    #C = np.mean((a3 - y)**2)*0.5\n",
    "    # Calcul\n",
    "    delta3 = (a3-y)\n",
    "    # Calcul\n",
    "    delta2 = np.dot(W3.T,delta3)*reluprime(z2)\n",
    "    \n",
    "    dCdW2 = np.dot(delta2,a1.T)\n",
    "    #dCdW2 = dCdW2.T\n",
    "    dCdW3 = np.dot(delta3,a2.T)\n",
    "    #dCdW3 = dCdW2.T\n",
    "    dCdb2 = delta2\n",
    "    dCdb3 = delta3\n",
    "\n",
    "    return dCdW2, dCdW3, dCdb2, dCdb3"
   ]
  },
  {
   "cell_type": "code",
   "execution_count": 7,
   "id": "1610d988",
   "metadata": {},
   "outputs": [],
   "source": [
    "# ETAPE 6\n",
    "\n",
    "# Définition de la fonction coût\n",
    "\n",
    "def cost(y,y_pred):\n",
    "    return (1/2*n)* np.linalg.norm(y-y_pred)**2"
   ]
  },
  {
   "cell_type": "code",
   "execution_count": 8,
   "id": "c3ad4d13",
   "metadata": {},
   "outputs": [],
   "source": [
    "# ETAPE 7\n",
    "\n",
    "# Prediction du modèle\n",
    "\n",
    "def model_predict(X,W2,W3,b2,b3):\n",
    "    a1 = X\n",
    "    # Calculer et stocker\n",
    "    z2 = W2@a1 + b2\n",
    "    a2 = relu(z2)\n",
    "\n",
    "    z3 = W3@a2 + b3\n",
    "    a3 = z3\n",
    "     \n",
    "    return a3"
   ]
  },
  {
   "cell_type": "code",
   "execution_count": 9,
   "id": "909b56e4",
   "metadata": {},
   "outputs": [],
   "source": [
    "Cost = np.zeros(Nepoch)\n",
    "\n",
    "beta = 0.9\n",
    "\n",
    "dCdW2_avg = np.zeros(W2.shape)\n",
    "dCdW3_avg = np.zeros(W3.shape)\n",
    "dCdb2_avg = np.zeros(b2.shape)\n",
    "dCdb3_avg = np.zeros(b3.shape)\n",
    "\n",
    "HkW2=np.zeros(W2.shape)\n",
    "HkW3=np.zeros(W3.shape)\n",
    "Hkb2=np.zeros(b2.shape)\n",
    "Hkb3=np.zeros(b3.shape)\n",
    "\n",
    "for k in range(Nepoch):\n",
    "    \n",
    "    # Votre code ici\n",
    "    \n",
    "    # Mélanger des données\n",
    "    (X,y)=shuffle(X.T,y.T)\n",
    "    X=X.T\n",
    "    y=y.T\n",
    "    \n",
    "    y_pred = model_predict(X,W2,W3,b2,b3)\n",
    "    Cost[k] = cost(y,y_pred)\n",
    "\n",
    "    for j in range(Nbatch):\n",
    "        dCdW2 = np.zeros(W2.shape)\n",
    "        dCdW3 = np.zeros(W3.shape)\n",
    "        dCdb2 = np.zeros(b2.shape)\n",
    "        dCdb3 = np.zeros(b3.shape)\n",
    "        for i in range(Batchsize):\n",
    "            u = j*Batchsize\n",
    "\n",
    "            xi = X[0][u+i]\n",
    "            yi = y[0][u+i]\n",
    "            \n",
    "            gW2, gW3, gb2, gb3 = backpropagation(xi,yi,W2,W3,b2,b3)\n",
    "            \n",
    "            dCdW2 += gW2\n",
    "            dCdW3 += gW3\n",
    "            dCdb2 += gb2\n",
    "            dCdb3 += gb3.reshape(np.shape(dCdb3))\n",
    "            \n",
    "        dCdW2_avg = beta*dCdW2_avg + (1-beta)*dCdW2*dCdW2\n",
    "        dCdW3_avg = beta*dCdW3_avg + (1-beta)*dCdW3*dCdW3\n",
    "        dCdb2_avg = beta*dCdb2_avg + (1-beta)*dCdb2*dCdb2\n",
    "        dCdb3_avg = beta*dCdb3_avg + (1-beta)*dCdb3*dCdb3\n",
    "            \n",
    "        HkW2=1/(np.sqrt(dCdW2_avg+epsi))\n",
    "        HkW3=1/(np.sqrt(dCdW3_avg+epsi))\n",
    "        Hkb2=1/(np.sqrt(dCdb2_avg+epsi))\n",
    "        Hkb3=1/(np.sqrt(dCdb3_avg+epsi))\n",
    "        \n",
    "        # Actualisation des paramètres    \n",
    "        W2 = W2 - (eta/Batchsize)*HkW2*dCdW2\n",
    "        W3 = W3 - (eta/Batchsize)*HkW3*dCdW3\n",
    "        b2 = b2 - (eta/Batchsize)*Hkb2*dCdb2\n",
    "        b3 = b3 - (eta/Batchsize)*Hkb3*dCdb3"
   ]
  },
  {
   "cell_type": "code",
   "execution_count": 10,
   "id": "826173a4",
   "metadata": {},
   "outputs": [
    {
     "data": {
      "text/plain": [
       "array([[-0.91436891,  0.59451858,  0.73082928, -0.20345275,  0.29006168,\n",
       "         0.93019718, -0.44743453, -0.70743464, -0.97220389, -0.97220389,\n",
       "         0.55252009, -0.13614494, -0.97220389, -0.56416812,  0.46636872,\n",
       "        -0.97220389, -0.97220389, -0.97220389,  0.02560112, -0.40852333,\n",
       "         0.80451103,  0.24598492, -0.53944068, -0.97220389,  0.88850801,\n",
       "        -0.32944822,  0.85747645,  0.42652461,  0.09053669,  0.33413844,\n",
       "         0.88864248, -0.97220389, -0.49744219, -0.62343766,  0.8782538 ,\n",
       "         0.91461416, -0.97220389,  0.4685231 ,  0.76251254,  0.92500284,\n",
       "        -0.83343012, -0.09723374, -0.64199052, -0.75872411, -0.21396734,\n",
       "         0.68675252, -0.33070093, -0.97220389, -0.01847564,  0.72051405,\n",
       "         0.30052914,  0.0065397 ,  0.42229196,  0.8189828 , -0.25287854,\n",
       "         0.64267576, -0.83654651, -0.48634573,  0.9198085 ,  0.1578314 ,\n",
       "        -0.71981291,  0.90422549,  0.77490604,  0.34252763, -0.52525692,\n",
       "        -0.79763531,  0.25853065,  0.63651707,  0.06967788, -0.97220389,\n",
       "         0.89903115,  0.598599  , -0.11945577,  0.67851556, -0.97220389,\n",
       "        -0.97220389,  0.89383681, -0.87542861,  0.84650952, -0.97220389,\n",
       "        -0.28744973, -0.97220389,  0.86267079, -0.41344521, -0.24545124,\n",
       "         0.17453367, -0.79143163, -0.17505614,  0.95097452, -0.87545771,\n",
       "         0.13253518, -0.74943313, -0.03545879,  0.20190816,  0.51044548,\n",
       "        -0.07745728, -0.68090172, -0.95942559,  0.93050651,  0.87305947,\n",
       "         0.38452612, -0.97220389,  0.11375464, -0.97220389, -0.58143917,\n",
       "         0.90941983,  0.3782152 , -0.29178973,  0.21653216, -0.66543615,\n",
       "        -0.37144672,  0.04853819, -0.9174271 ,  0.88344814, -0.9532801 ,\n",
       "        -0.97220389,  0.55452224, -0.06255239, -0.4554437 ,  0.94578019,\n",
       "         0.86786513, -0.97220389, -0.16145426, -0.97220389,  0.94058585,\n",
       "        -0.10662915,  0.5105216 , -0.60307932, -0.36961213,  0.93539151]])"
      ]
     },
     "execution_count": 10,
     "metadata": {},
     "output_type": "execute_result"
    }
   ],
   "source": [
    "y_pred = model_predict(X,W2,W3,b2,b3)\n",
    "y_pred"
   ]
  },
  {
   "cell_type": "code",
   "execution_count": 11,
   "id": "8dc256b6",
   "metadata": {},
   "outputs": [
    {
     "data": {
      "image/png": "[encoded data removed]",
      "text/plain": [
       "<Figure size 432x288 with 1 Axes>"
      ]
     },
     "metadata": {
      "needs_background": "light"
     },
     "output_type": "display_data"
    }
   ],
   "source": [
    "plt.figure()\n",
    "plt.plot(X[0],y_pred[0], '*', label= \"Prediction\")\n",
    "plt.plot(X[0],y[0],'+', label=\"Verité\")\n",
    "plt.title('vérité et prédiction')\n",
    "plt.show()"
   ]
  },
  {
   "cell_type": "code",
   "execution_count": 12,
   "id": "3f0cacd1",
   "metadata": {},
   "outputs": [
    {
     "data": {
      "image/png": "[encoded data removed]",
      "text/plain": [
       "<Figure size 432x288 with 1 Axes>"
      ]
     },
     "metadata": {
      "needs_background": "light"
     },
     "output_type": "display_data"
    }
   ],
   "source": [
    "plt.figure()\n",
    "plt.plot(Cost)\n",
    "plt.show()"
   ]
  }
 ],
 "metadata": {
  "kernelspec": {
   "display_name": "Python 3 (ipykernel)",
   "language": "python",
   "name": "python3"
  },
  "language_info": {
   "codemirror_mode": {
    "name": "ipython",
    "version": 3
   },
   "file_extension": ".py",
   "mimetype": "text/x-python",
   "name": "python",
   "nbconvert_exporter": "python",
   "pygments_lexer": "ipython3",
   "version": "3.9.7"
  }
 },
 "nbformat": 4,
 "nbformat_minor": 5
}
