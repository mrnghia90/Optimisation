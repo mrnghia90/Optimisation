{
 "cells": [
  {
   "cell_type": "markdown",
   "id": "472bad8f",
   "metadata": {},
   "source": [
    "# Root mean square propagation (RMSprop)"
   ]
  },
  {
   "cell_type": "code",
   "execution_count": 1,
   "id": "6a216e9b",
   "metadata": {},
   "outputs": [],
   "source": [
    "%reset -f\n",
    "\n",
    "import numpy as np\n",
    "import matplotlib.pyplot as plt\n",
    "from sklearn.utils import shuffle"
   ]
  },
  {
   "cell_type": "code",
   "execution_count": 2,
   "id": "fe1ee62c",
   "metadata": {},
   "outputs": [],
   "source": [
    "# ETAPE 1\n",
    "\n",
    "# définition des parametres : pour tester les fonctions, on prendra n2 = 5\n",
    "\n",
    "# n = nombre de données d'apprentissage \n",
    "# n2 = nombres de neurones dans la 2eme couche\n",
    "# eta = pas dans la méthode du gradient à pas fixe (= learning rate)\n",
    "# Niter = nombre d'itérations dans la méthode du gradient à pas fixe\n",
    "\n",
    "n = 130\n",
    "n2 = 15\n",
    "eta = 0.3 #learning rate\n",
    "\n",
    "Nepoch = 2500\n",
    "Nbatch = 13\n",
    "Batchsize = 10\n",
    "\n",
    "epsi = 10**(-8)"
   ]
  },
  {
   "cell_type": "code",
   "execution_count": 3,
   "id": "dd3dbe99",
   "metadata": {},
   "outputs": [],
   "source": [
    "# ETAPE 2\n",
    "\n",
    "# génération des données d'apprentissage\n",
    "\n",
    "X = np.linspace(0,1,n).reshape(1,n)\n",
    "y = np.sin(2*np.pi*X)"
   ]
  },
  {
   "cell_type": "code",
   "execution_count": 4,
   "id": "ad053f2f",
   "metadata": {},
   "outputs": [],
   "source": [
    "# ETAPE 3\n",
    "\n",
    "# Fonction d'activation\n",
    "def sigma(z):\n",
    "    return 1/(1+np.exp(-z))\n",
    "\n",
    "# Dérivée de la fonction d'activation\n",
    "def sigmaprime(z):\n",
    "    return np.exp(-z)/((1+np.exp(-z))**2)\n"
   ]
  },
  {
   "cell_type": "code",
   "execution_count": 5,
   "id": "82ee0993",
   "metadata": {},
   "outputs": [],
   "source": [
    "# ETAPE 4\n",
    "\n",
    "# Initialisation matrices poids et vecteurs biais du réseau de neurones\n",
    "\n",
    "W2 = np.random.randn(n2,1)\n",
    "b2 = np.random.randn(n2,1)\n",
    "\n",
    "W3 = np.random.randn(1,n2)\n",
    "b3 = np.random.randn(1)"
   ]
  },
  {
   "cell_type": "code",
   "execution_count": 6,
   "id": "30591322",
   "metadata": {},
   "outputs": [],
   "source": [
    "# ETAPE 5\n",
    "\n",
    "# Calcul de dC/dW2, dC/dW3, dC/db2 et dC/db3 en utilisant\n",
    "# la méthode de backpropagation\n",
    "\n",
    "def compute_grad(x,y,W2,W3,b2,b3):\n",
    "    a1 = x\n",
    "    # Calculer et stocker\n",
    "    z2 = np.dot(W2,a1) + b2\n",
    "    a2 = sigma(z2)\n",
    "\n",
    "    z3 = np.dot(W3,a2) + b3\n",
    "    a3 = z3\n",
    "\n",
    "    #C = np.mean((a3 - y)**2)*0.5\n",
    "    # Calcul\n",
    "    delta3 = (a3-y)\n",
    "    # Calcul\n",
    "    delta2 = np.dot(W3.T,delta3)*sigmaprime(z2)\n",
    "    \n",
    "    dCdW2 = np.dot(delta2,a1.T)\n",
    "    #dCdW2 = dCdW2.T\n",
    "    dCdW3 = np.dot(delta3,a2.T)\n",
    "    #dCdW3 = dCdW2.T\n",
    "    dCdb2 = delta2\n",
    "    dCdb3 = delta3\n",
    "\n",
    "    return dCdW2, dCdW3, dCdb2, dCdb3"
   ]
  },
  {
   "cell_type": "code",
   "execution_count": 7,
   "id": "1610d988",
   "metadata": {},
   "outputs": [],
   "source": [
    "# ETAPE 6\n",
    "\n",
    "# Définition de la fonction coût\n",
    "\n",
    "def cost(y,y_pred):\n",
    "    return (1/2*n)* np.linalg.norm(y-y_pred)**2"
   ]
  },
  {
   "cell_type": "code",
   "execution_count": 8,
   "id": "c3ad4d13",
   "metadata": {},
   "outputs": [],
   "source": [
    "# ETAPE 7\n",
    "\n",
    "# Prediction du modèle\n",
    "\n",
    "def model_predict(X,W2,W3,b2,b3):\n",
    "    a1 = X\n",
    "    # Calculer et stocker\n",
    "    z2 = W2@a1 + b2\n",
    "    a2 = sigma(z2)\n",
    "\n",
    "    z3 = W3@a2 + b3\n",
    "    a3 = z3\n",
    "     \n",
    "    return a3"
   ]
  },
  {
   "cell_type": "code",
   "execution_count": 9,
   "id": "909b56e4",
   "metadata": {},
   "outputs": [],
   "source": [
    "Cost = np.zeros(Nepoch)\n",
    "\n",
    "beta = 0.9\n",
    "\n",
    "\n",
    "dCdW2_avg = np.zeros(W2.shape)\n",
    "dCdW3_avg = np.zeros(W3.shape)\n",
    "dCdb2_avg = np.zeros(b2.shape)\n",
    "dCdb3_avg = np.zeros(b3.shape)\n",
    "\n",
    "HkW2=np.zeros(W2.shape)\n",
    "HkW3=np.zeros(W3.shape)\n",
    "Hkb2=np.zeros(b2.shape)\n",
    "Hkb3=np.zeros(b3.shape)\n",
    "\n",
    "for k in range(Nepoch):\n",
    "    \n",
    "    # Votre code ici\n",
    "    \n",
    "    # Mélanger des données\n",
    "    (X,y) = shuffle(X,y)\n",
    "    y_pred = model_predict(X,W2,W3,b2,b3)\n",
    "    Cost[k] = cost(y,y_pred)\n",
    "\n",
    "    for j in range(Nbatch):\n",
    "        dCdW2 = np.zeros(W2.shape)\n",
    "        dCdW3 = np.zeros(W3.shape)\n",
    "        dCdb2 = np.zeros(b2.shape)\n",
    "        dCdb3 = np.zeros(b3.shape)\n",
    "        for i in range(Batchsize):\n",
    "            u = j*Batchsize\n",
    "\n",
    "            xi = X[0][u+i]\n",
    "            yi = y[0][u+i]\n",
    "            \n",
    "            gW2, gW3, gb2, gb3 = compute_grad(xi,yi,W2,W3,b2,b3)\n",
    "            \n",
    "            dCdW2 += gW2\n",
    "            dCdW3 += gW3\n",
    "            dCdb2 += gb2\n",
    "            dCdb3 += gb3.reshape(np.shape(dCdb3))\n",
    "            \n",
    "        dCdW2_avg = beta*dCdW2_avg + (1-beta)*dCdW2*dCdW2\n",
    "        dCdW3_avg = beta*dCdW3_avg + (1-beta)*dCdW3*dCdW3\n",
    "        dCdb2_avg = beta*dCdb2_avg + (1-beta)*dCdb2*dCdb2\n",
    "        dCdb3_avg = beta*dCdb3_avg + (1-beta)*dCdb3*dCdb3\n",
    "            \n",
    "        HkW2=1/(np.sqrt(dCdW2_avg+epsi))\n",
    "        HkW3=1/(np.sqrt(dCdW3_avg+epsi))\n",
    "        Hkb2=1/(np.sqrt(dCdb2_avg+epsi))\n",
    "        Hkb3=1/(np.sqrt(dCdb3_avg+epsi))\n",
    "        \n",
    "        # Actualisation des paramètres    \n",
    "        W2 = W2 - (eta/Batchsize)*HkW2*dCdW2\n",
    "        W3 = W3 - (eta/Batchsize)*HkW3*dCdW3\n",
    "        b2 = b2 - (eta/Batchsize)*Hkb2*dCdb2\n",
    "        b3 = b3 - (eta/Batchsize)*Hkb3*dCdb3\n"
   ]
  },
  {
   "cell_type": "code",
   "execution_count": 10,
   "id": "826173a4",
   "metadata": {},
   "outputs": [
    {
     "data": {
      "text/plain": [
       "array([[ 0.07693804,  0.15925344,  0.237057  ,  0.31034478,  0.37915601,\n",
       "         0.44356741,  0.50368745,  0.55965053,  0.61161159,  0.65974093,\n",
       "         0.70421954,  0.74523494,  0.78297752,  0.81763742,  0.84940185,\n",
       "         0.87845301,  0.90496627,  0.92910885,  0.95103874,  0.97090401,\n",
       "         0.98884222,  1.00498009,  1.01943338,  1.03230672,  1.04369372,\n",
       "         1.05367697,  1.06232818,  1.06970828,  1.07586759,  1.08084588,\n",
       "         1.08467248,  1.08736639,  1.08893631,  1.08938067,  1.08868768,\n",
       "         1.08683538,  1.08379164,  1.07951434,  1.07395145,  1.06704134,\n",
       "         1.05871318,  1.04888748,  1.03747687,  1.02438711,  1.00951844,\n",
       "         0.99276712,  0.97402744,  0.95319402,  0.93016441,  0.90484206,\n",
       "         0.87713957,  0.84698208,  0.81431082,  0.77908662,  0.74129332,\n",
       "         0.70094085,  0.65806795,  0.61274428,  0.56507183,  0.51518556,\n",
       "         0.46325314,  0.40947378,  0.35407616,  0.29731548,  0.23946971,\n",
       "         0.18083529,  0.12172221,  0.06244883,  0.00333661, -0.05529522,\n",
       "        -0.11313461, -0.16988142, -0.22525152, -0.2789803 , -0.33082555,\n",
       "        -0.38056958, -0.42802065, -0.47301373, -0.51541061, -0.55509943,\n",
       "        -0.59199379, -0.62603136, -0.65717229, -0.68539727, -0.71070556,\n",
       "        -0.73311288, -0.75264927, -0.76935704, -0.78328877, -0.79450543,\n",
       "        -0.80307464, -0.80906906, -0.81256497, -0.813641  , -0.81237701,\n",
       "        -0.80885316, -0.80314907, -0.79534315, -0.78551209, -0.77373037,\n",
       "        -0.76006998, -0.74460011, -0.72738705, -0.70849403, -0.68798122,\n",
       "        -0.66590571, -0.64232154, -0.61727982, -0.59082879, -0.56301395,\n",
       "        -0.53387822, -0.50346207, -0.47180368, -0.4389391 , -0.40490244,\n",
       "        -0.36972601, -0.33344047, -0.29607503, -0.2576576 , -0.21821491,\n",
       "        -0.17777268, -0.13635577, -0.09398829, -0.05069375, -0.00649516,\n",
       "         0.03858485,  0.08452393,  0.13129989,  0.17889065,  0.2272741 ]])"
      ]
     },
     "execution_count": 10,
     "metadata": {},
     "output_type": "execute_result"
    }
   ],
   "source": [
    "y_pred = model_predict(X,W2,W3,b2,b3)\n",
    "y_pred"
   ]
  },
  {
   "cell_type": "code",
   "execution_count": 11,
   "id": "8dc256b6",
   "metadata": {},
   "outputs": [
    {
     "data": {
      "text/plain": [
       "[<matplotlib.lines.Line2D at 0x17f244f4490>]"
      ]
     },
     "execution_count": 11,
     "metadata": {},
     "output_type": "execute_result"
    },
    {
     "data": {
      "image/png": "[encoded data removed]",
      "text/plain": [
       "<Figure size 432x288 with 1 Axes>"
      ]
     },
     "metadata": {
      "needs_background": "light"
     },
     "output_type": "display_data"
    }
   ],
   "source": [
    "plt.figure()\n",
    "plt.plot(X[0],y_pred[0], '*', label= \"Prediction\")\n",
    "plt.plot(X[0],y[0], label=\"Verité\" )"
   ]
  },
  {
   "cell_type": "code",
   "execution_count": 12,
   "id": "3f0cacd1",
   "metadata": {},
   "outputs": [
    {
     "data": {
      "text/plain": [
       "[<matplotlib.lines.Line2D at 0x17f24c74b50>]"
      ]
     },
     "execution_count": 12,
     "metadata": {},
     "output_type": "execute_result"
    },
    {
     "data": {
      "image/png": "[encoded data removed]",
      "text/plain": [
       "<Figure size 432x288 with 1 Axes>"
      ]
     },
     "metadata": {
      "needs_background": "light"
     },
     "output_type": "display_data"
    }
   ],
   "source": [
    "plt.plot(Cost)"
   ]
  }
 ],
 "metadata": {
  "kernelspec": {
   "display_name": "Python 3 (ipykernel)",
   "language": "python",
   "name": "python3"
  },
  "language_info": {
   "codemirror_mode": {
    "name": "ipython",
    "version": 3
   },
   "file_extension": ".py",
   "mimetype": "text/x-python",
   "name": "python",
   "nbconvert_exporter": "python",
   "pygments_lexer": "ipython3",
   "version": "3.9.7"
  }
 },
 "nbformat": 4,
 "nbformat_minor": 5
}
