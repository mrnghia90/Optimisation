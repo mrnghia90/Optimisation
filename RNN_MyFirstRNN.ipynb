{
 "cells": [
  {
   "cell_type": "markdown",
   "id": "b13d0466",
   "metadata": {},
   "source": [
    "# Libraires utiles"
   ]
  },
  {
   "cell_type": "code",
   "execution_count": 1,
   "id": "e3d8a4d2",
   "metadata": {},
   "outputs": [],
   "source": [
    "%reset -f\n",
    "import numpy as np\n",
    "import matplotlib.pyplot as plt\n",
    "import numpy.random as npr"
   ]
  },
  {
   "cell_type": "markdown",
   "id": "ec16d272",
   "metadata": {},
   "source": [
    "## Etape 1"
   ]
  },
  {
   "cell_type": "code",
   "execution_count": 2,
   "id": "e1827e44",
   "metadata": {},
   "outputs": [],
   "source": [
    "n = 100             ## Nbr donnée d'apprentissage\n",
    "n2 = 15             ## Nbr de neuronnes\n",
    "learning_rate = 0.3 ## Pas - learning-rate\n",
    "Niter = 8000        ## Nbr d'itérations"
   ]
  },
  {
   "cell_type": "markdown",
   "id": "7e13a264",
   "metadata": {},
   "source": [
    "## Etape 2"
   ]
  },
  {
   "cell_type": "code",
   "execution_count": 13,
   "id": "b8301f40",
   "metadata": {},
   "outputs": [
    {
     "data": {
      "text/plain": [
       "(1, 100)"
      ]
     },
     "execution_count": 13,
     "metadata": {},
     "output_type": "execute_result"
    }
   ],
   "source": [
    "# Générer des stocker dans des matrices X et y de dimemsion 1xn\n",
    "X = np.linspace(0,1,n)\n",
    "# Transformer en dim 1xn\n",
    "X = np.linspace(0,1,n).reshape(1,n)\n",
    "y = np.sin(2*np.pi*X)\n",
    "y.shape"
   ]
  },
  {
   "cell_type": "markdown",
   "id": "bb269130",
   "metadata": {},
   "source": [
    "## Etape 3"
   ]
  },
  {
   "cell_type": "code",
   "execution_count": 4,
   "id": "dee20b10",
   "metadata": {},
   "outputs": [],
   "source": [
    "def sigma(z):\n",
    "    return 1/(1+np.exp(-z))\n",
    "def sigmaprime(z):\n",
    "    return np.exp(-z)/((1 + np.exp(-z))**2)"
   ]
  },
  {
   "cell_type": "markdown",
   "id": "92c22342",
   "metadata": {},
   "source": [
    "## Etape 4"
   ]
  },
  {
   "cell_type": "code",
   "execution_count": 5,
   "id": "a467d223",
   "metadata": {},
   "outputs": [],
   "source": [
    "# Générer des matrices de paramètres W,b avec nombre aléatoires\n",
    "W2 = npr.randn(n2)\n",
    "W2 = W2.reshape((n2,1))\n",
    "\n",
    "W3 = npr.randn(n2)\n",
    "W3 = W3.reshape((1,n2))\n",
    "\n",
    "b2 = npr.randn(n2)\n",
    "b2 = b2.reshape((n2,1))\n",
    "\n",
    "b3 = npr.randn(1)\n",
    "b3 = b3.reshape((1,1))"
   ]
  },
  {
   "cell_type": "code",
   "execution_count": 6,
   "id": "2aba8a60",
   "metadata": {},
   "outputs": [
    {
     "name": "stdout",
     "output_type": "stream",
     "text": [
      "Shape de W2  (15, 1)\n",
      "Shape de b2  (15, 1)\n",
      "Shape de W3  (1, 15)\n",
      "Shape de b3  (15, 1)\n"
     ]
    }
   ],
   "source": [
    "print(\"Shape de W2 \",W2.shape)\n",
    "print(\"Shape de b2 \",b2.shape)\n",
    "\n",
    "print(\"Shape de W3 \",W3.shape)\n",
    "print(\"Shape de b3 \",b2.shape)"
   ]
  },
  {
   "cell_type": "markdown",
   "id": "07b73d2b",
   "metadata": {},
   "source": [
    "## Etape 5"
   ]
  },
  {
   "cell_type": "code",
   "execution_count": 7,
   "id": "1a4ad03a",
   "metadata": {},
   "outputs": [
    {
     "name": "stdout",
     "output_type": "stream",
     "text": [
      "Shape delta2 (15, 1)\n",
      "Shape delta3 (1, 1)\n"
     ]
    }
   ],
   "source": [
    "def gradient(X,y,W2,W3,b2,b3):\n",
    "    a1 = X\n",
    "    # Calculer et stocker\n",
    "    z2 = W2@a1 + b2\n",
    "    a2 = sigma(z2)\n",
    "\n",
    "    z3 = W3@a2 + b3\n",
    "    a3 = z3\n",
    "\n",
    "    # Calcul\n",
    "    delta3 = a3-y\n",
    "    # Calcul\n",
    "    delta2 = (W3.T @ delta3)*sigmaprime(z2)\n",
    "    \n",
    "    dCdW2 = delta2@a1.T\n",
    "    dCdW3 = delta3@a2.T\n",
    "    dCdb2 = delta2\n",
    "    dCdb3 = delta3\n",
    "    \n",
    "    return dCdW2, dCdW3, dCdb2, dCdb3\n",
    "\n",
    "dCdW2, dCdW3, dCdb2, dCdb3 = gradient(X[0,0].reshape((1,1)),y[0,0].reshape((1,1)),W2,W3,b2,b3)\n",
    "print(\"Shape delta2\",dCdb2.shape)\n",
    "print(\"Shape delta3\",dCdb3.shape)"
   ]
  },
  {
   "cell_type": "markdown",
   "id": "295caf79",
   "metadata": {},
   "source": [
    "## Etape6"
   ]
  },
  {
   "cell_type": "code",
   "execution_count": 8,
   "id": "b82f714f",
   "metadata": {},
   "outputs": [],
   "source": [
    "# Créer une fonction coût avec\n",
    "def cout(y,y_pred):\n",
    "    n = len(y)\n",
    "    return (1/2*n)* np.linalg.norm(y-y_pred)"
   ]
  },
  {
   "cell_type": "markdown",
   "id": "bc7d9330",
   "metadata": {},
   "source": [
    "## Etape 7"
   ]
  },
  {
   "cell_type": "code",
   "execution_count": 9,
   "id": "e6279e56",
   "metadata": {},
   "outputs": [],
   "source": [
    "def model_predict(X,W2,W3,b2,b3):\n",
    "    a1 = X\n",
    "    # Calculer et stocker\n",
    "    z2 = W2@a1 + b2\n",
    "    a2 = sigma(z2)\n",
    "\n",
    "    z3 = W3@a2 + b3\n",
    "    a3 = z3\n",
    "\n",
    "    return a3"
   ]
  },
  {
   "cell_type": "markdown",
   "id": "3da879a6",
   "metadata": {},
   "source": [
    "# Etape 8"
   ]
  },
  {
   "cell_type": "code",
   "execution_count": 11,
   "id": "eba0ecac",
   "metadata": {},
   "outputs": [],
   "source": [
    "\n",
    "Coist = []\n",
    "for i in range(1,Niter):\n",
    "    # Initialiser\n",
    "    \n",
    "    dCdW2 = np.zeros(W2.shape)\n",
    "    dCdW3 = np.zeros(W3.shape)\n",
    "    dCdb2 = np.zeros(b2.shape)\n",
    "    dCdb3 = np.zeros(b3.shape)"
   ]
  },
  {
   "cell_type": "code",
   "execution_count": 32,
   "id": "89c8c785",
   "metadata": {},
   "outputs": [
    {
     "name": "stdout",
     "output_type": "stream",
     "text": [
      "None\n"
     ]
    }
   ],
   "source": [
    "u = np.array([1,2,3,4,5,4])\n",
    "k= np.random.shuffle(u)\n",
    "print(k)"
   ]
  }
 ],
 "metadata": {
  "kernelspec": {
   "display_name": "Python 3 (ipykernel)",
   "language": "python",
   "name": "python3"
  },
  "language_info": {
   "codemirror_mode": {
    "name": "ipython",
    "version": 3
   },
   "file_extension": ".py",
   "mimetype": "text/x-python",
   "name": "python",
   "nbconvert_exporter": "python",
   "pygments_lexer": "ipython3",
   "version": "3.9.7"
  }
 },
 "nbformat": 4,
 "nbformat_minor": 5
}
