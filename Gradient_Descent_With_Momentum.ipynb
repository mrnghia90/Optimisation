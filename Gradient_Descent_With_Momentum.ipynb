{
 "cells": [
  {
   "cell_type": "code",
   "execution_count": 1,
   "id": "c0c93932",
   "metadata": {},
   "outputs": [],
   "source": [
    "%reset -f\n",
    "\n",
    "import numpy as np\n",
    "import matplotlib.pyplot as plt\n",
    "from sklearn.utils import shuffle"
   ]
  },
  {
   "cell_type": "code",
   "execution_count": 2,
   "id": "dcddcd30",
   "metadata": {},
   "outputs": [],
   "source": [
    "# ETAPE 1\n",
    "\n",
    "# définition des parametres : pour tester les fonctions, on prendra n2 = 5\n",
    "\n",
    "# n = nombre de données d'apprentissage \n",
    "# n2 = nombres de neurones dans la 2eme couche\n",
    "# eta = pas dans la méthode du gradient à pas fixe (= learning rate)\n",
    "# Niter = nombre d'itérations dans la méthode du gradient à pas fixe\n",
    "\n",
    "n = 100\n",
    "n2 = 5\n",
    "eta = 0.3 #learning rate\n",
    "Niter = 8000\n",
    "Nepoch = 6000"
   ]
  },
  {
   "cell_type": "code",
   "execution_count": 3,
   "id": "133e0a94",
   "metadata": {},
   "outputs": [],
   "source": [
    "# ETAPE 2\n",
    "\n",
    "# génération des données d'apprentissage\n",
    "\n",
    "X = np.linspace(0,1,n).reshape(1,n)\n",
    "y = np.sin(2*np.pi*X)"
   ]
  },
  {
   "cell_type": "code",
   "execution_count": 4,
   "id": "9438a9d3",
   "metadata": {},
   "outputs": [
    {
     "data": {
      "text/plain": [
       "(1, 100)"
      ]
     },
     "execution_count": 4,
     "metadata": {},
     "output_type": "execute_result"
    }
   ],
   "source": [
    "np.shape(X)\n",
    "np.shape(y)"
   ]
  },
  {
   "cell_type": "code",
   "execution_count": 5,
   "id": "796bbc31",
   "metadata": {},
   "outputs": [],
   "source": [
    "# ETAPE 3\n",
    "\n",
    "# Fonction d'activation\n",
    "def sigma(z):\n",
    "    return 1/(1+np.exp(-z))\n",
    "\n",
    "# Dérivée de la fonction d'activation\n",
    "def sigmaprime(z):\n",
    "    return np.exp(-z)/((1+np.exp(-z))**2)"
   ]
  },
  {
   "cell_type": "code",
   "execution_count": 6,
   "id": "40397e5c",
   "metadata": {},
   "outputs": [],
   "source": [
    "# ETAPE 4\n",
    "\n",
    "# Initialisation matrices poids et vecteurs biais du réseau de neurones\n",
    "\n",
    "W2 = np.random.randn(n2,1)\n",
    "b2 = np.random.randn(n2,1)\n",
    "\n",
    "W3 = np.random.randn(1,n2)\n",
    "b3 = np.random.randn(1)\n"
   ]
  },
  {
   "cell_type": "code",
   "execution_count": 7,
   "id": "6ed9cd3a",
   "metadata": {},
   "outputs": [],
   "source": [
    "# ETAPE 5\n",
    "\n",
    "# Calcul de dC/dW2, dC/dW3, dC/db2 et dC/db3 en utilisant\n",
    "# la méthode de backpropagation\n",
    "\n",
    "def compute_grad(x,y,W2,W3,b2,b3):\n",
    "    a1 = x\n",
    "    # Calculer et stocker\n",
    "    z2 = np.dot(W2,a1) + b2\n",
    "    a2 = sigma(z2)\n",
    "\n",
    "    z3 = np.dot(W3,a2) + b3\n",
    "    a3 = z3\n",
    "\n",
    "    #C = np.mean((a3 - y)**2)*0.5\n",
    "    # Calcul\n",
    "    delta3 = (a3-y)\n",
    "    # Calcul\n",
    "    delta2 = np.dot(W3.T,delta3)*sigmaprime(z2)\n",
    "    \n",
    "    dCdW2 = np.dot(delta2,a1.T)\n",
    "    #dCdW2 = dCdW2.T\n",
    "    dCdW3 = np.dot(delta3,a2.T)\n",
    "    #dCdW3 = dCdW2.T\n",
    "    dCdb2 = delta2\n",
    "    dCdb3 = delta3\n",
    "\n",
    "    return dCdW2, dCdW3, dCdb2, dCdb3"
   ]
  },
  {
   "cell_type": "code",
   "execution_count": 8,
   "id": "2d4f0327",
   "metadata": {},
   "outputs": [
    {
     "name": "stdout",
     "output_type": "stream",
     "text": [
      "dCdW2=\n",
      "[[0.09472382]\n",
      " [0.13767658]\n",
      " [0.18598269]\n",
      " [0.13201616]\n",
      " [0.04893513]]\n",
      "\n",
      "dCdW3=\n",
      "[[2.00282269 2.10390657 2.06540843 2.46139695 1.84208145]]\n",
      "\n",
      "dCdb2=\n",
      "[[0.31574606]\n",
      " [0.45892193]\n",
      " [0.6199423 ]\n",
      " [0.44005386]\n",
      " [0.1631171 ]]\n",
      "\n",
      "dCdb3=\n",
      "[[3.30567707]]\n"
     ]
    }
   ],
   "source": [
    "# Test de la fonction compute_grad:\n",
    "# Pour tester, on prendra les matrices suivantes:\n",
    "\n",
    "W2 = np.array([[0.1],[0.2],[0.7],[0.9],[0.1]])\n",
    "b2 = np.array([[0.4],[0.5],[0.3],[0.8],[0.2]])\n",
    "\n",
    "W3 = np.array([[0.4, 0.6, 0.8, 0.7, 0.2]])\n",
    "b3 = np.array([[2.5]])\n",
    "\n",
    "xi = np.array([[0.3]])\n",
    "yi = np.sin(2*np.pi*xi)\n",
    "\n",
    "dCdW2, dCdW3, dCdb2, dCdb3 = compute_grad(xi,yi,W2,W3,b2,b3)\n",
    "\n",
    "# Vous devez trouver les résultats suivants:\n",
    "print('dCdW2=')\n",
    "print(dCdW2)\n",
    "print('')\n",
    "print('dCdW3=')\n",
    "print(dCdW3)\n",
    "print('')\n",
    "print('dCdb2=')\n",
    "print(dCdb2)\n",
    "print('')\n",
    "print('dCdb3=')\n",
    "print(dCdb3)"
   ]
  },
  {
   "cell_type": "code",
   "execution_count": 9,
   "id": "05cc5753",
   "metadata": {},
   "outputs": [],
   "source": [
    "# ETAPE 6\n",
    "\n",
    "# Définition de la fonction coût\n",
    "\n",
    "def cost(y,y_pred):\n",
    "    return (1/2*n)* np.linalg.norm(y-y_pred)"
   ]
  },
  {
   "cell_type": "code",
   "execution_count": 10,
   "id": "d7d9d9af",
   "metadata": {},
   "outputs": [],
   "source": [
    "# ETAPE 7\n",
    "\n",
    "# Prediction du modèle\n",
    "\n",
    "def model_predict(X,W2,W3,b2,b3):\n",
    "    a1 = X\n",
    "    # Calculer et stocker\n",
    "    z2 = W2@a1 + b2\n",
    "    a2 = sigma(z2)\n",
    "\n",
    "    z3 = W3@a2 + b3\n",
    "    a3 = z3\n",
    "    \n",
    "    return a3"
   ]
  },
  {
   "cell_type": "code",
   "execution_count": 11,
   "id": "231378e7",
   "metadata": {},
   "outputs": [
    {
     "name": "stdout",
     "output_type": "stream",
     "text": [
      "[[4.25673358]]\n"
     ]
    }
   ],
   "source": [
    "# Test de la fonction model_predict\n",
    "\n",
    "print(model_predict(xi,W2,W3,b2,b3))"
   ]
  },
  {
   "cell_type": "code",
   "execution_count": 12,
   "id": "3ef34589",
   "metadata": {},
   "outputs": [],
   "source": [
    "Nepoch = 3000\n",
    "Nbatch = 5\n",
    "Batchsize = 20"
   ]
  },
  {
   "cell_type": "markdown",
   "id": "2c66f511",
   "metadata": {},
   "source": [
    "# Méthode de gradient stochastique avec Mini Lots et moyenne glissant\n",
    "# ~Méthode de gradient stochastique avec Momentum"
   ]
  },
  {
   "cell_type": "code",
   "execution_count": 13,
   "id": "c19e6137",
   "metadata": {},
   "outputs": [],
   "source": [
    "# ETAPE 8\n",
    "\n",
    "# Programme principal : phase d'apprentissage\n",
    "\n",
    "Cost = np.zeros(Nepoch)\n",
    "\n",
    "beta = 0.9\n",
    "\n",
    "\n",
    "dCdW2_avg = np.zeros(W2.shape)\n",
    "dCdW3_avg = np.zeros(W3.shape)\n",
    "dCdb2_avg = np.zeros(b2.shape)\n",
    "dCdb3_avg = np.zeros(b3.shape)\n",
    "for k in range(Nepoch):\n",
    "    \n",
    "    # Votre code ici\n",
    "    \n",
    "    # Mélanger des données\n",
    "    oscuro\n",
    "    y_pred = model_predict(X,W2,W3,b2,b3)\n",
    "    Cost[k] = cost(y,y_pred)\n",
    "    \n",
    "    for j in range(Nbatch):\n",
    "        dCdW2 = np.zeros(W2.shape)\n",
    "        dCdW3 = np.zeros(W3.shape)\n",
    "        dCdb2 = np.zeros(b2.shape)\n",
    "        dCdb3 = np.zeros(b3.shape)\n",
    "        for i in range(Batchsize):\n",
    "            u = j*Batchsize\n",
    "\n",
    "            xi = X[0][u+i]\n",
    "            yi = y[0][u+i]\n",
    "            \n",
    "            gW2, gW3, gb2, gb3 = compute_grad(xi,yi,W2,W3,b2,b3)\n",
    "            \n",
    "            dCdW2 += gW2\n",
    "            dCdW3 += gW3\n",
    "            dCdb2 += gb2\n",
    "            dCdb3 += gb3\n",
    "            \n",
    "            dCdW2_avg = beta*dCdW2_avg + (1-beta)*dCdW2\n",
    "            dCdW3_avg = beta*dCdW3_avg + (1-beta)*dCdW3\n",
    "            dCdb2_avg = beta*dCdb2_avg + (1-beta)*dCdb2\n",
    "            dCdb3_avg = beta*dCdb3_avg + (1-beta)*dCdb3\n",
    "        \n",
    "        # Actualisation des paramètres    \n",
    "        W2 = W2 - (eta/Batchsize)*dCdW2_avg\n",
    "        W3 = W3 - (eta/Batchsize)*dCdW3_avg\n",
    "        b2 = b2 - (eta/Batchsize)*dCdb2_avg\n",
    "        b3 = b3 - (eta/Batchsize)*dCdb3_avg"
   ]
  },
  {
   "cell_type": "code",
   "execution_count": 14,
   "id": "d9346071",
   "metadata": {},
   "outputs": [
    {
     "data": {
      "text/plain": [
       "array([[ 0.12682017,  0.16925921,  0.21155342,  0.25365586,  0.29551542,\n",
       "         0.33707644,  0.37827829,  0.41905503,  0.45933487,  0.49903977,\n",
       "         0.53808493,  0.57637826,  0.61381991,  0.65030173,  0.68570677,\n",
       "         0.71990876,  0.75277171,  0.78414948,  0.81388547,  0.8418124 ,\n",
       "         0.86775226,  0.89151641,  0.91290593,  0.93171222,  0.94771792,\n",
       "         0.96069828,  0.97042288,  0.97665791,  0.97916901,  0.9777247 ,\n",
       "         0.97210044,  0.96208333,  0.94747749,  0.92810997,  0.90383719,\n",
       "         0.8745517 ,  0.84018911,  0.80073496,  0.75623115,  0.70678169,\n",
       "         0.65255734,  0.59379876,  0.53081795,  0.46399745,  0.39378731,\n",
       "         0.3206996 ,  0.2453006 ,  0.16820065,  0.0900423 ,  0.0114869 ,\n",
       "        -0.06679953, -0.1441607 , -0.21996402, -0.29361342, -0.3645607 ,\n",
       "        -0.4323148 , -0.49644879, -0.55660445, -0.61249446, -0.6639023 ,\n",
       "        -0.71068025, -0.75274554, -0.79007532, -0.82270058, -0.85069955,\n",
       "        -0.87419078, -0.89332623, -0.90828462, -0.91926515, -0.9264818 ,\n",
       "        -0.93015822, -0.93052322, -0.92780697, -0.92223779, -0.91403954,\n",
       "        -0.90342955, -0.89061699, -0.87580177, -0.85917368, -0.84091188,\n",
       "        -0.82118472, -0.80014963, -0.7779533 , -0.75473193, -0.73061154,\n",
       "        -0.70570846, -0.68012976, -0.65397379, -0.62733063, -0.60028271,\n",
       "        -0.57290525, -0.54526681, -0.51742975, -0.48945071, -0.46138106,\n",
       "        -0.43326731, -0.40515152, -0.37707163, -0.34906184, -0.32115291]])"
      ]
     },
     "execution_count": 14,
     "metadata": {},
     "output_type": "execute_result"
    }
   ],
   "source": [
    "y_pred = model_predict(X,W2,W3,b2,b3)\n",
    "y_pred"
   ]
  },
  {
   "cell_type": "code",
   "execution_count": 15,
   "id": "b4558510",
   "metadata": {},
   "outputs": [
    {
     "data": {
      "image/png": "[encoded data removed]",
      "text/plain": [
       "<Figure size 432x288 with 1 Axes>"
      ]
     },
     "metadata": {
      "needs_background": "light"
     },
     "output_type": "display_data"
    }
   ],
   "source": [
    "plt.figure()\n",
    "plt.plot(X[0],y_pred[0], '*', label= \"Prediction\")\n",
    "plt.plot(X[0],y[0],'+', label=\"Verité\" )\n",
    "plt.title('Vérité et Prédiction')\n",
    "plt.show()"
   ]
  },
  {
   "cell_type": "code",
   "execution_count": 16,
   "id": "cfee7c8b",
   "metadata": {},
   "outputs": [
    {
     "data": {
      "image/png": "[encoded data removed]",
      "text/plain": [
       "<Figure size 432x288 with 1 Axes>"
      ]
     },
     "metadata": {
      "needs_background": "light"
     },
     "output_type": "display_data"
    }
   ],
   "source": [
    "plt.figure()\n",
    "plt.plot(Cost)\n",
    "plt.title('Valeur de la fonction coût')\n",
    "plt.show()"
   ]
  }
 ],
 "metadata": {
  "kernelspec": {
   "display_name": "Python 3 (ipykernel)",
   "language": "python",
   "name": "python3"
  },
  "language_info": {
   "codemirror_mode": {
    "name": "ipython",
    "version": 3
   },
   "file_extension": ".py",
   "mimetype": "text/x-python",
   "name": "python",
   "nbconvert_exporter": "python",
   "pygments_lexer": "ipython3",
   "version": "3.9.7"
  }
 },
 "nbformat": 4,
 "nbformat_minor": 5
}
